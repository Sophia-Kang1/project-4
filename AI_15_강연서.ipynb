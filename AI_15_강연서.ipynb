{
  "nbformat": 4,
  "nbformat_minor": 0,
  "metadata": {
    "colab": {
      "provenance": []
    },
    "kernelspec": {
      "name": "python3",
      "display_name": "Python 3"
    },
    "language_info": {
      "name": "python"
    }
  },
  "cells": [
    {
      "cell_type": "markdown",
      "source": [
        "### ***카테고리(아우터, 상의, 하의)별 또는 성별별 어떤 경우에 별점과 리뷰를 안 좋게 주는가?***\n",
        "\n",
        "**가설 예시**\n",
        "\n",
        "1.   아우터는 보온성이 좋지 않으면 별점과 리뷰를 좋지 않게 줄 것이다.\n",
        "2.   카테고리와 상관 없이 예상했던 핏이 아닐 경우에 별점과 리뷰를 좋지 않게 줄 것이다.\n",
        "3. 하의는 기장이 별점과 리뷰에 영향을 미칠 것이다.\n",
        "4. 여성은 원했던 색상이 아닐 경우에 별점과 리뷰를 좋지 않게 줄 가능성이 높을 것이다.\n",
        "\n",
        "**WHY?**\n",
        "리뷰 분석을 통해 상품 기획 및 개발 시 보완 가능\n"
      ],
      "metadata": {
        "id": "ZpyZTeqMW9OZ"
      }
    },
    {
      "cell_type": "code",
      "source": [
        "pip install konlpy"
      ],
      "metadata": {
        "colab": {
          "base_uri": "https://localhost:8080/"
        },
        "id": "uXWAmDxdGLaF",
        "outputId": "85e681fb-28ee-4c1c-fd4a-0cb8dec4f4fa"
      },
      "execution_count": 48,
      "outputs": [
        {
          "output_type": "stream",
          "name": "stdout",
          "text": [
            "Looking in indexes: https://pypi.org/simple, https://us-python.pkg.dev/colab-wheels/public/simple/\n",
            "Requirement already satisfied: konlpy in /usr/local/lib/python3.8/dist-packages (0.6.0)\n",
            "Requirement already satisfied: lxml>=4.1.0 in /usr/local/lib/python3.8/dist-packages (from konlpy) (4.9.1)\n",
            "Requirement already satisfied: JPype1>=0.7.0 in /usr/local/lib/python3.8/dist-packages (from konlpy) (1.4.1)\n",
            "Requirement already satisfied: numpy>=1.6 in /usr/local/lib/python3.8/dist-packages (from konlpy) (1.21.6)\n",
            "Requirement already satisfied: packaging in /usr/local/lib/python3.8/dist-packages (from JPype1>=0.7.0->konlpy) (21.3)\n",
            "Requirement already satisfied: pyparsing!=3.0.5,>=2.0.2 in /usr/local/lib/python3.8/dist-packages (from packaging->JPype1>=0.7.0->konlpy) (3.0.9)\n"
          ]
        }
      ]
    },
    {
      "cell_type": "code",
      "source": [
        "pip install git+https://github.com/ssut/py-hanspell.git"
      ],
      "metadata": {
        "colab": {
          "base_uri": "https://localhost:8080/"
        },
        "id": "0MW0I9zqilZk",
        "outputId": "42165e29-fc76-4a75-8403-107178715f1d"
      },
      "execution_count": 49,
      "outputs": [
        {
          "output_type": "stream",
          "name": "stdout",
          "text": [
            "Looking in indexes: https://pypi.org/simple, https://us-python.pkg.dev/colab-wheels/public/simple/\n",
            "Collecting git+https://github.com/ssut/py-hanspell.git\n",
            "  Cloning https://github.com/ssut/py-hanspell.git to /tmp/pip-req-build-g4wq2m8i\n",
            "  Running command git clone -q https://github.com/ssut/py-hanspell.git /tmp/pip-req-build-g4wq2m8i\n",
            "Requirement already satisfied: requests in /usr/local/lib/python3.8/dist-packages (from py-hanspell==1.1) (2.23.0)\n",
            "Requirement already satisfied: idna<3,>=2.5 in /usr/local/lib/python3.8/dist-packages (from requests->py-hanspell==1.1) (2.10)\n",
            "Requirement already satisfied: certifi>=2017.4.17 in /usr/local/lib/python3.8/dist-packages (from requests->py-hanspell==1.1) (2022.9.24)\n",
            "Requirement already satisfied: urllib3!=1.25.0,!=1.25.1,<1.26,>=1.21.1 in /usr/local/lib/python3.8/dist-packages (from requests->py-hanspell==1.1) (1.24.3)\n",
            "Requirement already satisfied: chardet<4,>=3.0.2 in /usr/local/lib/python3.8/dist-packages (from requests->py-hanspell==1.1) (3.0.4)\n"
          ]
        }
      ]
    },
    {
      "cell_type": "code",
      "execution_count": 50,
      "metadata": {
        "id": "QQWpiivNKcVf"
      },
      "outputs": [],
      "source": [
        "import numpy as np\n",
        "import pandas as pd\n",
        "import os\n",
        "import re\n",
        "import matplotlib.pyplot as plt\n",
        "import seaborn as sns\n",
        "from wordcloud import WordCloud\n",
        "from konlpy.tag import Okt\n",
        "from tensorflow.keras.preprocessing.sequence import pad_sequences\n",
        "from tensorflow.keras.preprocessing.text import Tokenizer\n",
        "from konlpy.tag import Okt  \n",
        "import nltk\n",
        "from hanspell import spell_checker\n",
        "\n",
        "tokenizer = Okt()"
      ]
    },
    {
      "cell_type": "code",
      "source": [
        "df = pd.read_csv('/content/drive/MyDrive/musinsa_reviews.csv')\n",
        "df.head()"
      ],
      "metadata": {
        "colab": {
          "base_uri": "https://localhost:8080/",
          "height": 354
        },
        "id": "Q05T_Tqs1lkx",
        "outputId": "63de5a6f-466b-45e2-822f-3a152de207c1"
      },
      "execution_count": 51,
      "outputs": [
        {
          "output_type": "execute_result",
          "data": {
            "text/plain": [
              "  category review_type  rating         consumer  consumer rating brand_name  \\\n",
              "0       상의       낮은 평점     4.9  남성, 170cm, 90kg              3.0     푸마 셀렉트   \n",
              "1       상의       낮은 평점     4.9  남성, 175cm, 69kg              3.0     푸마 셀렉트   \n",
              "2       상의       낮은 평점     4.9  남성, 174cm, 75kg              4.0     푸마 셀렉트   \n",
              "3       상의       낮은 평점     4.9  남성, 170cm, 60kg              4.0     푸마 셀렉트   \n",
              "4       상의       낮은 평점     4.9  남성, 178cm, 75kg              4.0     푸마 셀렉트   \n",
              "\n",
              "                                              review  \n",
              "0                     조금 작습니다 ㅜㅜ 한치수 크게살걸 그랬습니다 아쉽네요  \n",
              "1  무적권 사세요…핏이 진짜 이쁘고 소재도 밀도가 높아서 오버한 핏이 잘잡힘\\r\\n\\r...  \n",
              "2                      후드티라 더 더워지기전에 자주 입을것 같아 만족합니다  \n",
              "3        꽤나 두껍네요. 늦봄까지 입기엔 글쎄요 하지만 옷이 이뻐서 그래도 더울것같네요  \n",
              "4           두껍지 않지만 탄탄한 후드입니다 몸 기장과 팔 기장이 통에 비해 길진 x  "
            ],
            "text/html": [
              "\n",
              "  <div id=\"df-88a02a7e-edee-4e77-8eef-d55eb2df77da\">\n",
              "    <div class=\"colab-df-container\">\n",
              "      <div>\n",
              "<style scoped>\n",
              "    .dataframe tbody tr th:only-of-type {\n",
              "        vertical-align: middle;\n",
              "    }\n",
              "\n",
              "    .dataframe tbody tr th {\n",
              "        vertical-align: top;\n",
              "    }\n",
              "\n",
              "    .dataframe thead th {\n",
              "        text-align: right;\n",
              "    }\n",
              "</style>\n",
              "<table border=\"1\" class=\"dataframe\">\n",
              "  <thead>\n",
              "    <tr style=\"text-align: right;\">\n",
              "      <th></th>\n",
              "      <th>category</th>\n",
              "      <th>review_type</th>\n",
              "      <th>rating</th>\n",
              "      <th>consumer</th>\n",
              "      <th>consumer rating</th>\n",
              "      <th>brand_name</th>\n",
              "      <th>review</th>\n",
              "    </tr>\n",
              "  </thead>\n",
              "  <tbody>\n",
              "    <tr>\n",
              "      <th>0</th>\n",
              "      <td>상의</td>\n",
              "      <td>낮은 평점</td>\n",
              "      <td>4.9</td>\n",
              "      <td>남성, 170cm, 90kg</td>\n",
              "      <td>3.0</td>\n",
              "      <td>푸마 셀렉트</td>\n",
              "      <td>조금 작습니다 ㅜㅜ 한치수 크게살걸 그랬습니다 아쉽네요</td>\n",
              "    </tr>\n",
              "    <tr>\n",
              "      <th>1</th>\n",
              "      <td>상의</td>\n",
              "      <td>낮은 평점</td>\n",
              "      <td>4.9</td>\n",
              "      <td>남성, 175cm, 69kg</td>\n",
              "      <td>3.0</td>\n",
              "      <td>푸마 셀렉트</td>\n",
              "      <td>무적권 사세요…핏이 진짜 이쁘고 소재도 밀도가 높아서 오버한 핏이 잘잡힘\\r\\n\\r...</td>\n",
              "    </tr>\n",
              "    <tr>\n",
              "      <th>2</th>\n",
              "      <td>상의</td>\n",
              "      <td>낮은 평점</td>\n",
              "      <td>4.9</td>\n",
              "      <td>남성, 174cm, 75kg</td>\n",
              "      <td>4.0</td>\n",
              "      <td>푸마 셀렉트</td>\n",
              "      <td>후드티라 더 더워지기전에 자주 입을것 같아 만족합니다</td>\n",
              "    </tr>\n",
              "    <tr>\n",
              "      <th>3</th>\n",
              "      <td>상의</td>\n",
              "      <td>낮은 평점</td>\n",
              "      <td>4.9</td>\n",
              "      <td>남성, 170cm, 60kg</td>\n",
              "      <td>4.0</td>\n",
              "      <td>푸마 셀렉트</td>\n",
              "      <td>꽤나 두껍네요. 늦봄까지 입기엔 글쎄요 하지만 옷이 이뻐서 그래도 더울것같네요</td>\n",
              "    </tr>\n",
              "    <tr>\n",
              "      <th>4</th>\n",
              "      <td>상의</td>\n",
              "      <td>낮은 평점</td>\n",
              "      <td>4.9</td>\n",
              "      <td>남성, 178cm, 75kg</td>\n",
              "      <td>4.0</td>\n",
              "      <td>푸마 셀렉트</td>\n",
              "      <td>두껍지 않지만 탄탄한 후드입니다 몸 기장과 팔 기장이 통에 비해 길진 x</td>\n",
              "    </tr>\n",
              "  </tbody>\n",
              "</table>\n",
              "</div>\n",
              "      <button class=\"colab-df-convert\" onclick=\"convertToInteractive('df-88a02a7e-edee-4e77-8eef-d55eb2df77da')\"\n",
              "              title=\"Convert this dataframe to an interactive table.\"\n",
              "              style=\"display:none;\">\n",
              "        \n",
              "  <svg xmlns=\"http://www.w3.org/2000/svg\" height=\"24px\"viewBox=\"0 0 24 24\"\n",
              "       width=\"24px\">\n",
              "    <path d=\"M0 0h24v24H0V0z\" fill=\"none\"/>\n",
              "    <path d=\"M18.56 5.44l.94 2.06.94-2.06 2.06-.94-2.06-.94-.94-2.06-.94 2.06-2.06.94zm-11 1L8.5 8.5l.94-2.06 2.06-.94-2.06-.94L8.5 2.5l-.94 2.06-2.06.94zm10 10l.94 2.06.94-2.06 2.06-.94-2.06-.94-.94-2.06-.94 2.06-2.06.94z\"/><path d=\"M17.41 7.96l-1.37-1.37c-.4-.4-.92-.59-1.43-.59-.52 0-1.04.2-1.43.59L10.3 9.45l-7.72 7.72c-.78.78-.78 2.05 0 2.83L4 21.41c.39.39.9.59 1.41.59.51 0 1.02-.2 1.41-.59l7.78-7.78 2.81-2.81c.8-.78.8-2.07 0-2.86zM5.41 20L4 18.59l7.72-7.72 1.47 1.35L5.41 20z\"/>\n",
              "  </svg>\n",
              "      </button>\n",
              "      \n",
              "  <style>\n",
              "    .colab-df-container {\n",
              "      display:flex;\n",
              "      flex-wrap:wrap;\n",
              "      gap: 12px;\n",
              "    }\n",
              "\n",
              "    .colab-df-convert {\n",
              "      background-color: #E8F0FE;\n",
              "      border: none;\n",
              "      border-radius: 50%;\n",
              "      cursor: pointer;\n",
              "      display: none;\n",
              "      fill: #1967D2;\n",
              "      height: 32px;\n",
              "      padding: 0 0 0 0;\n",
              "      width: 32px;\n",
              "    }\n",
              "\n",
              "    .colab-df-convert:hover {\n",
              "      background-color: #E2EBFA;\n",
              "      box-shadow: 0px 1px 2px rgba(60, 64, 67, 0.3), 0px 1px 3px 1px rgba(60, 64, 67, 0.15);\n",
              "      fill: #174EA6;\n",
              "    }\n",
              "\n",
              "    [theme=dark] .colab-df-convert {\n",
              "      background-color: #3B4455;\n",
              "      fill: #D2E3FC;\n",
              "    }\n",
              "\n",
              "    [theme=dark] .colab-df-convert:hover {\n",
              "      background-color: #434B5C;\n",
              "      box-shadow: 0px 1px 3px 1px rgba(0, 0, 0, 0.15);\n",
              "      filter: drop-shadow(0px 1px 2px rgba(0, 0, 0, 0.3));\n",
              "      fill: #FFFFFF;\n",
              "    }\n",
              "  </style>\n",
              "\n",
              "      <script>\n",
              "        const buttonEl =\n",
              "          document.querySelector('#df-88a02a7e-edee-4e77-8eef-d55eb2df77da button.colab-df-convert');\n",
              "        buttonEl.style.display =\n",
              "          google.colab.kernel.accessAllowed ? 'block' : 'none';\n",
              "\n",
              "        async function convertToInteractive(key) {\n",
              "          const element = document.querySelector('#df-88a02a7e-edee-4e77-8eef-d55eb2df77da');\n",
              "          const dataTable =\n",
              "            await google.colab.kernel.invokeFunction('convertToInteractive',\n",
              "                                                     [key], {});\n",
              "          if (!dataTable) return;\n",
              "\n",
              "          const docLinkHtml = 'Like what you see? Visit the ' +\n",
              "            '<a target=\"_blank\" href=https://colab.research.google.com/notebooks/data_table.ipynb>data table notebook</a>'\n",
              "            + ' to learn more about interactive tables.';\n",
              "          element.innerHTML = '';\n",
              "          dataTable['output_type'] = 'display_data';\n",
              "          await google.colab.output.renderOutput(dataTable, element);\n",
              "          const docLink = document.createElement('div');\n",
              "          docLink.innerHTML = docLinkHtml;\n",
              "          element.appendChild(docLink);\n",
              "        }\n",
              "      </script>\n",
              "    </div>\n",
              "  </div>\n",
              "  "
            ]
          },
          "metadata": {},
          "execution_count": 51
        }
      ]
    },
    {
      "cell_type": "code",
      "source": [
        "# 데이터 결측치 및 정보 확인\n",
        "df.info()"
      ],
      "metadata": {
        "colab": {
          "base_uri": "https://localhost:8080/"
        },
        "id": "nZulYQ82ZDF6",
        "outputId": "306fb3e3-e6ea-43a4-bffb-b88c37a2bb6e"
      },
      "execution_count": 52,
      "outputs": [
        {
          "output_type": "stream",
          "name": "stdout",
          "text": [
            "<class 'pandas.core.frame.DataFrame'>\n",
            "RangeIndex: 20917 entries, 0 to 20916\n",
            "Data columns (total 7 columns):\n",
            " #   Column           Non-Null Count  Dtype  \n",
            "---  ------           --------------  -----  \n",
            " 0   category         20917 non-null  object \n",
            " 1   review_type      20917 non-null  object \n",
            " 2   rating           20917 non-null  float64\n",
            " 3   consumer         20917 non-null  object \n",
            " 4   consumer rating  20917 non-null  float64\n",
            " 5   brand_name       20917 non-null  object \n",
            " 6   review           20917 non-null  object \n",
            "dtypes: float64(2), object(5)\n",
            "memory usage: 1.1+ MB\n"
          ]
        }
      ]
    },
    {
      "cell_type": "code",
      "source": [
        "# consumer 컬럼 정보 분리\n",
        "df['consumer_sex'] = df['consumer'].str.split(',').str[0]\n",
        "df['consumer_height'] = df['consumer'].str.split(',').str[1]\n",
        "df['consumer_weight'] = df['consumer'].str.split(',').str[2]\n",
        "df.head()"
      ],
      "metadata": {
        "colab": {
          "base_uri": "https://localhost:8080/",
          "height": 684
        },
        "id": "Rk70HEc5-mD9",
        "outputId": "fddc36e9-cbd0-4bcc-ff29-4919e6c4db28"
      },
      "execution_count": 53,
      "outputs": [
        {
          "output_type": "execute_result",
          "data": {
            "text/plain": [
              "  category review_type  rating         consumer  consumer rating brand_name  \\\n",
              "0       상의       낮은 평점     4.9  남성, 170cm, 90kg              3.0     푸마 셀렉트   \n",
              "1       상의       낮은 평점     4.9  남성, 175cm, 69kg              3.0     푸마 셀렉트   \n",
              "2       상의       낮은 평점     4.9  남성, 174cm, 75kg              4.0     푸마 셀렉트   \n",
              "3       상의       낮은 평점     4.9  남성, 170cm, 60kg              4.0     푸마 셀렉트   \n",
              "4       상의       낮은 평점     4.9  남성, 178cm, 75kg              4.0     푸마 셀렉트   \n",
              "\n",
              "                                              review consumer_sex  \\\n",
              "0                     조금 작습니다 ㅜㅜ 한치수 크게살걸 그랬습니다 아쉽네요           남성   \n",
              "1  무적권 사세요…핏이 진짜 이쁘고 소재도 밀도가 높아서 오버한 핏이 잘잡힘\\r\\n\\r...           남성   \n",
              "2                      후드티라 더 더워지기전에 자주 입을것 같아 만족합니다           남성   \n",
              "3        꽤나 두껍네요. 늦봄까지 입기엔 글쎄요 하지만 옷이 이뻐서 그래도 더울것같네요           남성   \n",
              "4           두껍지 않지만 탄탄한 후드입니다 몸 기장과 팔 기장이 통에 비해 길진 x           남성   \n",
              "\n",
              "  consumer_height consumer_weight  \n",
              "0           170cm            90kg  \n",
              "1           175cm            69kg  \n",
              "2           174cm            75kg  \n",
              "3           170cm            60kg  \n",
              "4           178cm            75kg  "
            ],
            "text/html": [
              "\n",
              "  <div id=\"df-04f9d9fb-4e55-4b65-aa0b-2f2647240408\">\n",
              "    <div class=\"colab-df-container\">\n",
              "      <div>\n",
              "<style scoped>\n",
              "    .dataframe tbody tr th:only-of-type {\n",
              "        vertical-align: middle;\n",
              "    }\n",
              "\n",
              "    .dataframe tbody tr th {\n",
              "        vertical-align: top;\n",
              "    }\n",
              "\n",
              "    .dataframe thead th {\n",
              "        text-align: right;\n",
              "    }\n",
              "</style>\n",
              "<table border=\"1\" class=\"dataframe\">\n",
              "  <thead>\n",
              "    <tr style=\"text-align: right;\">\n",
              "      <th></th>\n",
              "      <th>category</th>\n",
              "      <th>review_type</th>\n",
              "      <th>rating</th>\n",
              "      <th>consumer</th>\n",
              "      <th>consumer rating</th>\n",
              "      <th>brand_name</th>\n",
              "      <th>review</th>\n",
              "      <th>consumer_sex</th>\n",
              "      <th>consumer_height</th>\n",
              "      <th>consumer_weight</th>\n",
              "    </tr>\n",
              "  </thead>\n",
              "  <tbody>\n",
              "    <tr>\n",
              "      <th>0</th>\n",
              "      <td>상의</td>\n",
              "      <td>낮은 평점</td>\n",
              "      <td>4.9</td>\n",
              "      <td>남성, 170cm, 90kg</td>\n",
              "      <td>3.0</td>\n",
              "      <td>푸마 셀렉트</td>\n",
              "      <td>조금 작습니다 ㅜㅜ 한치수 크게살걸 그랬습니다 아쉽네요</td>\n",
              "      <td>남성</td>\n",
              "      <td>170cm</td>\n",
              "      <td>90kg</td>\n",
              "    </tr>\n",
              "    <tr>\n",
              "      <th>1</th>\n",
              "      <td>상의</td>\n",
              "      <td>낮은 평점</td>\n",
              "      <td>4.9</td>\n",
              "      <td>남성, 175cm, 69kg</td>\n",
              "      <td>3.0</td>\n",
              "      <td>푸마 셀렉트</td>\n",
              "      <td>무적권 사세요…핏이 진짜 이쁘고 소재도 밀도가 높아서 오버한 핏이 잘잡힘\\r\\n\\r...</td>\n",
              "      <td>남성</td>\n",
              "      <td>175cm</td>\n",
              "      <td>69kg</td>\n",
              "    </tr>\n",
              "    <tr>\n",
              "      <th>2</th>\n",
              "      <td>상의</td>\n",
              "      <td>낮은 평점</td>\n",
              "      <td>4.9</td>\n",
              "      <td>남성, 174cm, 75kg</td>\n",
              "      <td>4.0</td>\n",
              "      <td>푸마 셀렉트</td>\n",
              "      <td>후드티라 더 더워지기전에 자주 입을것 같아 만족합니다</td>\n",
              "      <td>남성</td>\n",
              "      <td>174cm</td>\n",
              "      <td>75kg</td>\n",
              "    </tr>\n",
              "    <tr>\n",
              "      <th>3</th>\n",
              "      <td>상의</td>\n",
              "      <td>낮은 평점</td>\n",
              "      <td>4.9</td>\n",
              "      <td>남성, 170cm, 60kg</td>\n",
              "      <td>4.0</td>\n",
              "      <td>푸마 셀렉트</td>\n",
              "      <td>꽤나 두껍네요. 늦봄까지 입기엔 글쎄요 하지만 옷이 이뻐서 그래도 더울것같네요</td>\n",
              "      <td>남성</td>\n",
              "      <td>170cm</td>\n",
              "      <td>60kg</td>\n",
              "    </tr>\n",
              "    <tr>\n",
              "      <th>4</th>\n",
              "      <td>상의</td>\n",
              "      <td>낮은 평점</td>\n",
              "      <td>4.9</td>\n",
              "      <td>남성, 178cm, 75kg</td>\n",
              "      <td>4.0</td>\n",
              "      <td>푸마 셀렉트</td>\n",
              "      <td>두껍지 않지만 탄탄한 후드입니다 몸 기장과 팔 기장이 통에 비해 길진 x</td>\n",
              "      <td>남성</td>\n",
              "      <td>178cm</td>\n",
              "      <td>75kg</td>\n",
              "    </tr>\n",
              "  </tbody>\n",
              "</table>\n",
              "</div>\n",
              "      <button class=\"colab-df-convert\" onclick=\"convertToInteractive('df-04f9d9fb-4e55-4b65-aa0b-2f2647240408')\"\n",
              "              title=\"Convert this dataframe to an interactive table.\"\n",
              "              style=\"display:none;\">\n",
              "        \n",
              "  <svg xmlns=\"http://www.w3.org/2000/svg\" height=\"24px\"viewBox=\"0 0 24 24\"\n",
              "       width=\"24px\">\n",
              "    <path d=\"M0 0h24v24H0V0z\" fill=\"none\"/>\n",
              "    <path d=\"M18.56 5.44l.94 2.06.94-2.06 2.06-.94-2.06-.94-.94-2.06-.94 2.06-2.06.94zm-11 1L8.5 8.5l.94-2.06 2.06-.94-2.06-.94L8.5 2.5l-.94 2.06-2.06.94zm10 10l.94 2.06.94-2.06 2.06-.94-2.06-.94-.94-2.06-.94 2.06-2.06.94z\"/><path d=\"M17.41 7.96l-1.37-1.37c-.4-.4-.92-.59-1.43-.59-.52 0-1.04.2-1.43.59L10.3 9.45l-7.72 7.72c-.78.78-.78 2.05 0 2.83L4 21.41c.39.39.9.59 1.41.59.51 0 1.02-.2 1.41-.59l7.78-7.78 2.81-2.81c.8-.78.8-2.07 0-2.86zM5.41 20L4 18.59l7.72-7.72 1.47 1.35L5.41 20z\"/>\n",
              "  </svg>\n",
              "      </button>\n",
              "      \n",
              "  <style>\n",
              "    .colab-df-container {\n",
              "      display:flex;\n",
              "      flex-wrap:wrap;\n",
              "      gap: 12px;\n",
              "    }\n",
              "\n",
              "    .colab-df-convert {\n",
              "      background-color: #E8F0FE;\n",
              "      border: none;\n",
              "      border-radius: 50%;\n",
              "      cursor: pointer;\n",
              "      display: none;\n",
              "      fill: #1967D2;\n",
              "      height: 32px;\n",
              "      padding: 0 0 0 0;\n",
              "      width: 32px;\n",
              "    }\n",
              "\n",
              "    .colab-df-convert:hover {\n",
              "      background-color: #E2EBFA;\n",
              "      box-shadow: 0px 1px 2px rgba(60, 64, 67, 0.3), 0px 1px 3px 1px rgba(60, 64, 67, 0.15);\n",
              "      fill: #174EA6;\n",
              "    }\n",
              "\n",
              "    [theme=dark] .colab-df-convert {\n",
              "      background-color: #3B4455;\n",
              "      fill: #D2E3FC;\n",
              "    }\n",
              "\n",
              "    [theme=dark] .colab-df-convert:hover {\n",
              "      background-color: #434B5C;\n",
              "      box-shadow: 0px 1px 3px 1px rgba(0, 0, 0, 0.15);\n",
              "      filter: drop-shadow(0px 1px 2px rgba(0, 0, 0, 0.3));\n",
              "      fill: #FFFFFF;\n",
              "    }\n",
              "  </style>\n",
              "\n",
              "      <script>\n",
              "        const buttonEl =\n",
              "          document.querySelector('#df-04f9d9fb-4e55-4b65-aa0b-2f2647240408 button.colab-df-convert');\n",
              "        buttonEl.style.display =\n",
              "          google.colab.kernel.accessAllowed ? 'block' : 'none';\n",
              "\n",
              "        async function convertToInteractive(key) {\n",
              "          const element = document.querySelector('#df-04f9d9fb-4e55-4b65-aa0b-2f2647240408');\n",
              "          const dataTable =\n",
              "            await google.colab.kernel.invokeFunction('convertToInteractive',\n",
              "                                                     [key], {});\n",
              "          if (!dataTable) return;\n",
              "\n",
              "          const docLinkHtml = 'Like what you see? Visit the ' +\n",
              "            '<a target=\"_blank\" href=https://colab.research.google.com/notebooks/data_table.ipynb>data table notebook</a>'\n",
              "            + ' to learn more about interactive tables.';\n",
              "          element.innerHTML = '';\n",
              "          dataTable['output_type'] = 'display_data';\n",
              "          await google.colab.output.renderOutput(dataTable, element);\n",
              "          const docLink = document.createElement('div');\n",
              "          docLink.innerHTML = docLinkHtml;\n",
              "          element.appendChild(docLink);\n",
              "        }\n",
              "      </script>\n",
              "    </div>\n",
              "  </div>\n",
              "  "
            ]
          },
          "metadata": {},
          "execution_count": 53
        }
      ]
    },
    {
      "cell_type": "code",
      "source": [
        "# consumer 컬럼 drop\n",
        "df = df.drop('consumer', axis=1)\n",
        "df.head()"
      ],
      "metadata": {
        "colab": {
          "base_uri": "https://localhost:8080/",
          "height": 458
        },
        "id": "YvlgGwSa_SI4",
        "outputId": "342258ce-4f17-44e7-906d-c1c0a381b387"
      },
      "execution_count": 54,
      "outputs": [
        {
          "output_type": "execute_result",
          "data": {
            "text/plain": [
              "  category review_type  rating  consumer rating brand_name  \\\n",
              "0       상의       낮은 평점     4.9              3.0     푸마 셀렉트   \n",
              "1       상의       낮은 평점     4.9              3.0     푸마 셀렉트   \n",
              "2       상의       낮은 평점     4.9              4.0     푸마 셀렉트   \n",
              "3       상의       낮은 평점     4.9              4.0     푸마 셀렉트   \n",
              "4       상의       낮은 평점     4.9              4.0     푸마 셀렉트   \n",
              "\n",
              "                                              review consumer_sex  \\\n",
              "0                     조금 작습니다 ㅜㅜ 한치수 크게살걸 그랬습니다 아쉽네요           남성   \n",
              "1  무적권 사세요…핏이 진짜 이쁘고 소재도 밀도가 높아서 오버한 핏이 잘잡힘\\r\\n\\r...           남성   \n",
              "2                      후드티라 더 더워지기전에 자주 입을것 같아 만족합니다           남성   \n",
              "3        꽤나 두껍네요. 늦봄까지 입기엔 글쎄요 하지만 옷이 이뻐서 그래도 더울것같네요           남성   \n",
              "4           두껍지 않지만 탄탄한 후드입니다 몸 기장과 팔 기장이 통에 비해 길진 x           남성   \n",
              "\n",
              "  consumer_height consumer_weight  \n",
              "0           170cm            90kg  \n",
              "1           175cm            69kg  \n",
              "2           174cm            75kg  \n",
              "3           170cm            60kg  \n",
              "4           178cm            75kg  "
            ],
            "text/html": [
              "\n",
              "  <div id=\"df-266319a0-761c-4f17-9a4e-44aa6ab63726\">\n",
              "    <div class=\"colab-df-container\">\n",
              "      <div>\n",
              "<style scoped>\n",
              "    .dataframe tbody tr th:only-of-type {\n",
              "        vertical-align: middle;\n",
              "    }\n",
              "\n",
              "    .dataframe tbody tr th {\n",
              "        vertical-align: top;\n",
              "    }\n",
              "\n",
              "    .dataframe thead th {\n",
              "        text-align: right;\n",
              "    }\n",
              "</style>\n",
              "<table border=\"1\" class=\"dataframe\">\n",
              "  <thead>\n",
              "    <tr style=\"text-align: right;\">\n",
              "      <th></th>\n",
              "      <th>category</th>\n",
              "      <th>review_type</th>\n",
              "      <th>rating</th>\n",
              "      <th>consumer rating</th>\n",
              "      <th>brand_name</th>\n",
              "      <th>review</th>\n",
              "      <th>consumer_sex</th>\n",
              "      <th>consumer_height</th>\n",
              "      <th>consumer_weight</th>\n",
              "    </tr>\n",
              "  </thead>\n",
              "  <tbody>\n",
              "    <tr>\n",
              "      <th>0</th>\n",
              "      <td>상의</td>\n",
              "      <td>낮은 평점</td>\n",
              "      <td>4.9</td>\n",
              "      <td>3.0</td>\n",
              "      <td>푸마 셀렉트</td>\n",
              "      <td>조금 작습니다 ㅜㅜ 한치수 크게살걸 그랬습니다 아쉽네요</td>\n",
              "      <td>남성</td>\n",
              "      <td>170cm</td>\n",
              "      <td>90kg</td>\n",
              "    </tr>\n",
              "    <tr>\n",
              "      <th>1</th>\n",
              "      <td>상의</td>\n",
              "      <td>낮은 평점</td>\n",
              "      <td>4.9</td>\n",
              "      <td>3.0</td>\n",
              "      <td>푸마 셀렉트</td>\n",
              "      <td>무적권 사세요…핏이 진짜 이쁘고 소재도 밀도가 높아서 오버한 핏이 잘잡힘\\r\\n\\r...</td>\n",
              "      <td>남성</td>\n",
              "      <td>175cm</td>\n",
              "      <td>69kg</td>\n",
              "    </tr>\n",
              "    <tr>\n",
              "      <th>2</th>\n",
              "      <td>상의</td>\n",
              "      <td>낮은 평점</td>\n",
              "      <td>4.9</td>\n",
              "      <td>4.0</td>\n",
              "      <td>푸마 셀렉트</td>\n",
              "      <td>후드티라 더 더워지기전에 자주 입을것 같아 만족합니다</td>\n",
              "      <td>남성</td>\n",
              "      <td>174cm</td>\n",
              "      <td>75kg</td>\n",
              "    </tr>\n",
              "    <tr>\n",
              "      <th>3</th>\n",
              "      <td>상의</td>\n",
              "      <td>낮은 평점</td>\n",
              "      <td>4.9</td>\n",
              "      <td>4.0</td>\n",
              "      <td>푸마 셀렉트</td>\n",
              "      <td>꽤나 두껍네요. 늦봄까지 입기엔 글쎄요 하지만 옷이 이뻐서 그래도 더울것같네요</td>\n",
              "      <td>남성</td>\n",
              "      <td>170cm</td>\n",
              "      <td>60kg</td>\n",
              "    </tr>\n",
              "    <tr>\n",
              "      <th>4</th>\n",
              "      <td>상의</td>\n",
              "      <td>낮은 평점</td>\n",
              "      <td>4.9</td>\n",
              "      <td>4.0</td>\n",
              "      <td>푸마 셀렉트</td>\n",
              "      <td>두껍지 않지만 탄탄한 후드입니다 몸 기장과 팔 기장이 통에 비해 길진 x</td>\n",
              "      <td>남성</td>\n",
              "      <td>178cm</td>\n",
              "      <td>75kg</td>\n",
              "    </tr>\n",
              "  </tbody>\n",
              "</table>\n",
              "</div>\n",
              "      <button class=\"colab-df-convert\" onclick=\"convertToInteractive('df-266319a0-761c-4f17-9a4e-44aa6ab63726')\"\n",
              "              title=\"Convert this dataframe to an interactive table.\"\n",
              "              style=\"display:none;\">\n",
              "        \n",
              "  <svg xmlns=\"http://www.w3.org/2000/svg\" height=\"24px\"viewBox=\"0 0 24 24\"\n",
              "       width=\"24px\">\n",
              "    <path d=\"M0 0h24v24H0V0z\" fill=\"none\"/>\n",
              "    <path d=\"M18.56 5.44l.94 2.06.94-2.06 2.06-.94-2.06-.94-.94-2.06-.94 2.06-2.06.94zm-11 1L8.5 8.5l.94-2.06 2.06-.94-2.06-.94L8.5 2.5l-.94 2.06-2.06.94zm10 10l.94 2.06.94-2.06 2.06-.94-2.06-.94-.94-2.06-.94 2.06-2.06.94z\"/><path d=\"M17.41 7.96l-1.37-1.37c-.4-.4-.92-.59-1.43-.59-.52 0-1.04.2-1.43.59L10.3 9.45l-7.72 7.72c-.78.78-.78 2.05 0 2.83L4 21.41c.39.39.9.59 1.41.59.51 0 1.02-.2 1.41-.59l7.78-7.78 2.81-2.81c.8-.78.8-2.07 0-2.86zM5.41 20L4 18.59l7.72-7.72 1.47 1.35L5.41 20z\"/>\n",
              "  </svg>\n",
              "      </button>\n",
              "      \n",
              "  <style>\n",
              "    .colab-df-container {\n",
              "      display:flex;\n",
              "      flex-wrap:wrap;\n",
              "      gap: 12px;\n",
              "    }\n",
              "\n",
              "    .colab-df-convert {\n",
              "      background-color: #E8F0FE;\n",
              "      border: none;\n",
              "      border-radius: 50%;\n",
              "      cursor: pointer;\n",
              "      display: none;\n",
              "      fill: #1967D2;\n",
              "      height: 32px;\n",
              "      padding: 0 0 0 0;\n",
              "      width: 32px;\n",
              "    }\n",
              "\n",
              "    .colab-df-convert:hover {\n",
              "      background-color: #E2EBFA;\n",
              "      box-shadow: 0px 1px 2px rgba(60, 64, 67, 0.3), 0px 1px 3px 1px rgba(60, 64, 67, 0.15);\n",
              "      fill: #174EA6;\n",
              "    }\n",
              "\n",
              "    [theme=dark] .colab-df-convert {\n",
              "      background-color: #3B4455;\n",
              "      fill: #D2E3FC;\n",
              "    }\n",
              "\n",
              "    [theme=dark] .colab-df-convert:hover {\n",
              "      background-color: #434B5C;\n",
              "      box-shadow: 0px 1px 3px 1px rgba(0, 0, 0, 0.15);\n",
              "      filter: drop-shadow(0px 1px 2px rgba(0, 0, 0, 0.3));\n",
              "      fill: #FFFFFF;\n",
              "    }\n",
              "  </style>\n",
              "\n",
              "      <script>\n",
              "        const buttonEl =\n",
              "          document.querySelector('#df-266319a0-761c-4f17-9a4e-44aa6ab63726 button.colab-df-convert');\n",
              "        buttonEl.style.display =\n",
              "          google.colab.kernel.accessAllowed ? 'block' : 'none';\n",
              "\n",
              "        async function convertToInteractive(key) {\n",
              "          const element = document.querySelector('#df-266319a0-761c-4f17-9a4e-44aa6ab63726');\n",
              "          const dataTable =\n",
              "            await google.colab.kernel.invokeFunction('convertToInteractive',\n",
              "                                                     [key], {});\n",
              "          if (!dataTable) return;\n",
              "\n",
              "          const docLinkHtml = 'Like what you see? Visit the ' +\n",
              "            '<a target=\"_blank\" href=https://colab.research.google.com/notebooks/data_table.ipynb>data table notebook</a>'\n",
              "            + ' to learn more about interactive tables.';\n",
              "          element.innerHTML = '';\n",
              "          dataTable['output_type'] = 'display_data';\n",
              "          await google.colab.output.renderOutput(dataTable, element);\n",
              "          const docLink = document.createElement('div');\n",
              "          docLink.innerHTML = docLinkHtml;\n",
              "          element.appendChild(docLink);\n",
              "        }\n",
              "      </script>\n",
              "    </div>\n",
              "  </div>\n",
              "  "
            ]
          },
          "metadata": {},
          "execution_count": 54
        }
      ]
    },
    {
      "cell_type": "code",
      "source": [
        "# 성별별 별점 평균 확인\n",
        "df.groupby(['consumer_sex'], as_index=False)['consumer rating'].mean() # 여성이 더 별점을 후하게 주는 경향 있음"
      ],
      "metadata": {
        "colab": {
          "base_uri": "https://localhost:8080/",
          "height": 143
        },
        "id": "AQevH6NUBDe9",
        "outputId": "51d5ff75-1afc-4a55-b2e5-b50a0062d3ba"
      },
      "execution_count": 55,
      "outputs": [
        {
          "output_type": "execute_result",
          "data": {
            "text/plain": [
              "  consumer_sex  consumer rating\n",
              "0                      4.845070\n",
              "1           남성         4.162981\n",
              "2           여성         4.368587"
            ],
            "text/html": [
              "\n",
              "  <div id=\"df-e80546d4-aac5-4683-a680-4a27b4e8f2fd\">\n",
              "    <div class=\"colab-df-container\">\n",
              "      <div>\n",
              "<style scoped>\n",
              "    .dataframe tbody tr th:only-of-type {\n",
              "        vertical-align: middle;\n",
              "    }\n",
              "\n",
              "    .dataframe tbody tr th {\n",
              "        vertical-align: top;\n",
              "    }\n",
              "\n",
              "    .dataframe thead th {\n",
              "        text-align: right;\n",
              "    }\n",
              "</style>\n",
              "<table border=\"1\" class=\"dataframe\">\n",
              "  <thead>\n",
              "    <tr style=\"text-align: right;\">\n",
              "      <th></th>\n",
              "      <th>consumer_sex</th>\n",
              "      <th>consumer rating</th>\n",
              "    </tr>\n",
              "  </thead>\n",
              "  <tbody>\n",
              "    <tr>\n",
              "      <th>0</th>\n",
              "      <td></td>\n",
              "      <td>4.845070</td>\n",
              "    </tr>\n",
              "    <tr>\n",
              "      <th>1</th>\n",
              "      <td>남성</td>\n",
              "      <td>4.162981</td>\n",
              "    </tr>\n",
              "    <tr>\n",
              "      <th>2</th>\n",
              "      <td>여성</td>\n",
              "      <td>4.368587</td>\n",
              "    </tr>\n",
              "  </tbody>\n",
              "</table>\n",
              "</div>\n",
              "      <button class=\"colab-df-convert\" onclick=\"convertToInteractive('df-e80546d4-aac5-4683-a680-4a27b4e8f2fd')\"\n",
              "              title=\"Convert this dataframe to an interactive table.\"\n",
              "              style=\"display:none;\">\n",
              "        \n",
              "  <svg xmlns=\"http://www.w3.org/2000/svg\" height=\"24px\"viewBox=\"0 0 24 24\"\n",
              "       width=\"24px\">\n",
              "    <path d=\"M0 0h24v24H0V0z\" fill=\"none\"/>\n",
              "    <path d=\"M18.56 5.44l.94 2.06.94-2.06 2.06-.94-2.06-.94-.94-2.06-.94 2.06-2.06.94zm-11 1L8.5 8.5l.94-2.06 2.06-.94-2.06-.94L8.5 2.5l-.94 2.06-2.06.94zm10 10l.94 2.06.94-2.06 2.06-.94-2.06-.94-.94-2.06-.94 2.06-2.06.94z\"/><path d=\"M17.41 7.96l-1.37-1.37c-.4-.4-.92-.59-1.43-.59-.52 0-1.04.2-1.43.59L10.3 9.45l-7.72 7.72c-.78.78-.78 2.05 0 2.83L4 21.41c.39.39.9.59 1.41.59.51 0 1.02-.2 1.41-.59l7.78-7.78 2.81-2.81c.8-.78.8-2.07 0-2.86zM5.41 20L4 18.59l7.72-7.72 1.47 1.35L5.41 20z\"/>\n",
              "  </svg>\n",
              "      </button>\n",
              "      \n",
              "  <style>\n",
              "    .colab-df-container {\n",
              "      display:flex;\n",
              "      flex-wrap:wrap;\n",
              "      gap: 12px;\n",
              "    }\n",
              "\n",
              "    .colab-df-convert {\n",
              "      background-color: #E8F0FE;\n",
              "      border: none;\n",
              "      border-radius: 50%;\n",
              "      cursor: pointer;\n",
              "      display: none;\n",
              "      fill: #1967D2;\n",
              "      height: 32px;\n",
              "      padding: 0 0 0 0;\n",
              "      width: 32px;\n",
              "    }\n",
              "\n",
              "    .colab-df-convert:hover {\n",
              "      background-color: #E2EBFA;\n",
              "      box-shadow: 0px 1px 2px rgba(60, 64, 67, 0.3), 0px 1px 3px 1px rgba(60, 64, 67, 0.15);\n",
              "      fill: #174EA6;\n",
              "    }\n",
              "\n",
              "    [theme=dark] .colab-df-convert {\n",
              "      background-color: #3B4455;\n",
              "      fill: #D2E3FC;\n",
              "    }\n",
              "\n",
              "    [theme=dark] .colab-df-convert:hover {\n",
              "      background-color: #434B5C;\n",
              "      box-shadow: 0px 1px 3px 1px rgba(0, 0, 0, 0.15);\n",
              "      filter: drop-shadow(0px 1px 2px rgba(0, 0, 0, 0.3));\n",
              "      fill: #FFFFFF;\n",
              "    }\n",
              "  </style>\n",
              "\n",
              "      <script>\n",
              "        const buttonEl =\n",
              "          document.querySelector('#df-e80546d4-aac5-4683-a680-4a27b4e8f2fd button.colab-df-convert');\n",
              "        buttonEl.style.display =\n",
              "          google.colab.kernel.accessAllowed ? 'block' : 'none';\n",
              "\n",
              "        async function convertToInteractive(key) {\n",
              "          const element = document.querySelector('#df-e80546d4-aac5-4683-a680-4a27b4e8f2fd');\n",
              "          const dataTable =\n",
              "            await google.colab.kernel.invokeFunction('convertToInteractive',\n",
              "                                                     [key], {});\n",
              "          if (!dataTable) return;\n",
              "\n",
              "          const docLinkHtml = 'Like what you see? Visit the ' +\n",
              "            '<a target=\"_blank\" href=https://colab.research.google.com/notebooks/data_table.ipynb>data table notebook</a>'\n",
              "            + ' to learn more about interactive tables.';\n",
              "          element.innerHTML = '';\n",
              "          dataTable['output_type'] = 'display_data';\n",
              "          await google.colab.output.renderOutput(dataTable, element);\n",
              "          const docLink = document.createElement('div');\n",
              "          docLink.innerHTML = docLinkHtml;\n",
              "          element.appendChild(docLink);\n",
              "        }\n",
              "      </script>\n",
              "    </div>\n",
              "  </div>\n",
              "  "
            ]
          },
          "metadata": {},
          "execution_count": 55
        }
      ]
    },
    {
      "cell_type": "code",
      "source": [
        "top = df['category'] == '상의'\n",
        "outer = df['category'] == '아우터'\n",
        "bottom = df['category'] == '하의'\n",
        "\n",
        "df_top = df[top]\n",
        "df_outer = df[outer]\n",
        "df_bottom = df[bottom]"
      ],
      "metadata": {
        "id": "Sh4SzW8jG4JS"
      },
      "execution_count": 56,
      "outputs": []
    },
    {
      "cell_type": "code",
      "source": [
        "df_top.head()"
      ],
      "metadata": {
        "colab": {
          "base_uri": "https://localhost:8080/",
          "height": 458
        },
        "id": "Ivjh_B7-t8BP",
        "outputId": "a63dadf4-1f35-46d1-fc99-9f4a581933de"
      },
      "execution_count": 57,
      "outputs": [
        {
          "output_type": "execute_result",
          "data": {
            "text/plain": [
              "  category review_type  rating  consumer rating brand_name  \\\n",
              "0       상의       낮은 평점     4.9              3.0     푸마 셀렉트   \n",
              "1       상의       낮은 평점     4.9              3.0     푸마 셀렉트   \n",
              "2       상의       낮은 평점     4.9              4.0     푸마 셀렉트   \n",
              "3       상의       낮은 평점     4.9              4.0     푸마 셀렉트   \n",
              "4       상의       낮은 평점     4.9              4.0     푸마 셀렉트   \n",
              "\n",
              "                                              review consumer_sex  \\\n",
              "0                     조금 작습니다 ㅜㅜ 한치수 크게살걸 그랬습니다 아쉽네요           남성   \n",
              "1  무적권 사세요…핏이 진짜 이쁘고 소재도 밀도가 높아서 오버한 핏이 잘잡힘\\r\\n\\r...           남성   \n",
              "2                      후드티라 더 더워지기전에 자주 입을것 같아 만족합니다           남성   \n",
              "3        꽤나 두껍네요. 늦봄까지 입기엔 글쎄요 하지만 옷이 이뻐서 그래도 더울것같네요           남성   \n",
              "4           두껍지 않지만 탄탄한 후드입니다 몸 기장과 팔 기장이 통에 비해 길진 x           남성   \n",
              "\n",
              "  consumer_height consumer_weight  \n",
              "0           170cm            90kg  \n",
              "1           175cm            69kg  \n",
              "2           174cm            75kg  \n",
              "3           170cm            60kg  \n",
              "4           178cm            75kg  "
            ],
            "text/html": [
              "\n",
              "  <div id=\"df-7df2e189-773d-4f48-8aa0-80a7ecdfd978\">\n",
              "    <div class=\"colab-df-container\">\n",
              "      <div>\n",
              "<style scoped>\n",
              "    .dataframe tbody tr th:only-of-type {\n",
              "        vertical-align: middle;\n",
              "    }\n",
              "\n",
              "    .dataframe tbody tr th {\n",
              "        vertical-align: top;\n",
              "    }\n",
              "\n",
              "    .dataframe thead th {\n",
              "        text-align: right;\n",
              "    }\n",
              "</style>\n",
              "<table border=\"1\" class=\"dataframe\">\n",
              "  <thead>\n",
              "    <tr style=\"text-align: right;\">\n",
              "      <th></th>\n",
              "      <th>category</th>\n",
              "      <th>review_type</th>\n",
              "      <th>rating</th>\n",
              "      <th>consumer rating</th>\n",
              "      <th>brand_name</th>\n",
              "      <th>review</th>\n",
              "      <th>consumer_sex</th>\n",
              "      <th>consumer_height</th>\n",
              "      <th>consumer_weight</th>\n",
              "    </tr>\n",
              "  </thead>\n",
              "  <tbody>\n",
              "    <tr>\n",
              "      <th>0</th>\n",
              "      <td>상의</td>\n",
              "      <td>낮은 평점</td>\n",
              "      <td>4.9</td>\n",
              "      <td>3.0</td>\n",
              "      <td>푸마 셀렉트</td>\n",
              "      <td>조금 작습니다 ㅜㅜ 한치수 크게살걸 그랬습니다 아쉽네요</td>\n",
              "      <td>남성</td>\n",
              "      <td>170cm</td>\n",
              "      <td>90kg</td>\n",
              "    </tr>\n",
              "    <tr>\n",
              "      <th>1</th>\n",
              "      <td>상의</td>\n",
              "      <td>낮은 평점</td>\n",
              "      <td>4.9</td>\n",
              "      <td>3.0</td>\n",
              "      <td>푸마 셀렉트</td>\n",
              "      <td>무적권 사세요…핏이 진짜 이쁘고 소재도 밀도가 높아서 오버한 핏이 잘잡힘\\r\\n\\r...</td>\n",
              "      <td>남성</td>\n",
              "      <td>175cm</td>\n",
              "      <td>69kg</td>\n",
              "    </tr>\n",
              "    <tr>\n",
              "      <th>2</th>\n",
              "      <td>상의</td>\n",
              "      <td>낮은 평점</td>\n",
              "      <td>4.9</td>\n",
              "      <td>4.0</td>\n",
              "      <td>푸마 셀렉트</td>\n",
              "      <td>후드티라 더 더워지기전에 자주 입을것 같아 만족합니다</td>\n",
              "      <td>남성</td>\n",
              "      <td>174cm</td>\n",
              "      <td>75kg</td>\n",
              "    </tr>\n",
              "    <tr>\n",
              "      <th>3</th>\n",
              "      <td>상의</td>\n",
              "      <td>낮은 평점</td>\n",
              "      <td>4.9</td>\n",
              "      <td>4.0</td>\n",
              "      <td>푸마 셀렉트</td>\n",
              "      <td>꽤나 두껍네요. 늦봄까지 입기엔 글쎄요 하지만 옷이 이뻐서 그래도 더울것같네요</td>\n",
              "      <td>남성</td>\n",
              "      <td>170cm</td>\n",
              "      <td>60kg</td>\n",
              "    </tr>\n",
              "    <tr>\n",
              "      <th>4</th>\n",
              "      <td>상의</td>\n",
              "      <td>낮은 평점</td>\n",
              "      <td>4.9</td>\n",
              "      <td>4.0</td>\n",
              "      <td>푸마 셀렉트</td>\n",
              "      <td>두껍지 않지만 탄탄한 후드입니다 몸 기장과 팔 기장이 통에 비해 길진 x</td>\n",
              "      <td>남성</td>\n",
              "      <td>178cm</td>\n",
              "      <td>75kg</td>\n",
              "    </tr>\n",
              "  </tbody>\n",
              "</table>\n",
              "</div>\n",
              "      <button class=\"colab-df-convert\" onclick=\"convertToInteractive('df-7df2e189-773d-4f48-8aa0-80a7ecdfd978')\"\n",
              "              title=\"Convert this dataframe to an interactive table.\"\n",
              "              style=\"display:none;\">\n",
              "        \n",
              "  <svg xmlns=\"http://www.w3.org/2000/svg\" height=\"24px\"viewBox=\"0 0 24 24\"\n",
              "       width=\"24px\">\n",
              "    <path d=\"M0 0h24v24H0V0z\" fill=\"none\"/>\n",
              "    <path d=\"M18.56 5.44l.94 2.06.94-2.06 2.06-.94-2.06-.94-.94-2.06-.94 2.06-2.06.94zm-11 1L8.5 8.5l.94-2.06 2.06-.94-2.06-.94L8.5 2.5l-.94 2.06-2.06.94zm10 10l.94 2.06.94-2.06 2.06-.94-2.06-.94-.94-2.06-.94 2.06-2.06.94z\"/><path d=\"M17.41 7.96l-1.37-1.37c-.4-.4-.92-.59-1.43-.59-.52 0-1.04.2-1.43.59L10.3 9.45l-7.72 7.72c-.78.78-.78 2.05 0 2.83L4 21.41c.39.39.9.59 1.41.59.51 0 1.02-.2 1.41-.59l7.78-7.78 2.81-2.81c.8-.78.8-2.07 0-2.86zM5.41 20L4 18.59l7.72-7.72 1.47 1.35L5.41 20z\"/>\n",
              "  </svg>\n",
              "      </button>\n",
              "      \n",
              "  <style>\n",
              "    .colab-df-container {\n",
              "      display:flex;\n",
              "      flex-wrap:wrap;\n",
              "      gap: 12px;\n",
              "    }\n",
              "\n",
              "    .colab-df-convert {\n",
              "      background-color: #E8F0FE;\n",
              "      border: none;\n",
              "      border-radius: 50%;\n",
              "      cursor: pointer;\n",
              "      display: none;\n",
              "      fill: #1967D2;\n",
              "      height: 32px;\n",
              "      padding: 0 0 0 0;\n",
              "      width: 32px;\n",
              "    }\n",
              "\n",
              "    .colab-df-convert:hover {\n",
              "      background-color: #E2EBFA;\n",
              "      box-shadow: 0px 1px 2px rgba(60, 64, 67, 0.3), 0px 1px 3px 1px rgba(60, 64, 67, 0.15);\n",
              "      fill: #174EA6;\n",
              "    }\n",
              "\n",
              "    [theme=dark] .colab-df-convert {\n",
              "      background-color: #3B4455;\n",
              "      fill: #D2E3FC;\n",
              "    }\n",
              "\n",
              "    [theme=dark] .colab-df-convert:hover {\n",
              "      background-color: #434B5C;\n",
              "      box-shadow: 0px 1px 3px 1px rgba(0, 0, 0, 0.15);\n",
              "      filter: drop-shadow(0px 1px 2px rgba(0, 0, 0, 0.3));\n",
              "      fill: #FFFFFF;\n",
              "    }\n",
              "  </style>\n",
              "\n",
              "      <script>\n",
              "        const buttonEl =\n",
              "          document.querySelector('#df-7df2e189-773d-4f48-8aa0-80a7ecdfd978 button.colab-df-convert');\n",
              "        buttonEl.style.display =\n",
              "          google.colab.kernel.accessAllowed ? 'block' : 'none';\n",
              "\n",
              "        async function convertToInteractive(key) {\n",
              "          const element = document.querySelector('#df-7df2e189-773d-4f48-8aa0-80a7ecdfd978');\n",
              "          const dataTable =\n",
              "            await google.colab.kernel.invokeFunction('convertToInteractive',\n",
              "                                                     [key], {});\n",
              "          if (!dataTable) return;\n",
              "\n",
              "          const docLinkHtml = 'Like what you see? Visit the ' +\n",
              "            '<a target=\"_blank\" href=https://colab.research.google.com/notebooks/data_table.ipynb>data table notebook</a>'\n",
              "            + ' to learn more about interactive tables.';\n",
              "          element.innerHTML = '';\n",
              "          dataTable['output_type'] = 'display_data';\n",
              "          await google.colab.output.renderOutput(dataTable, element);\n",
              "          const docLink = document.createElement('div');\n",
              "          docLink.innerHTML = docLinkHtml;\n",
              "          element.appendChild(docLink);\n",
              "        }\n",
              "      </script>\n",
              "    </div>\n",
              "  </div>\n",
              "  "
            ]
          },
          "metadata": {},
          "execution_count": 57
        }
      ]
    },
    {
      "cell_type": "code",
      "source": [
        "print(len(df_top))\n",
        "print(len(df_outer))\n",
        "print(len(df_bottom))"
      ],
      "metadata": {
        "colab": {
          "base_uri": "https://localhost:8080/"
        },
        "id": "lda_o6b7uKeY",
        "outputId": "be1fa37a-9fe2-4b50-eaa2-e54585b5ccc5"
      },
      "execution_count": 58,
      "outputs": [
        {
          "output_type": "stream",
          "name": "stdout",
          "text": [
            "6766\n",
            "7125\n",
            "7026\n"
          ]
        }
      ]
    },
    {
      "cell_type": "code",
      "source": [
        "review_t = df_top['review']\n",
        "review_o = df_outer['review']\n",
        "review_b = df_bottom['review']"
      ],
      "metadata": {
        "id": "iiPxjARD97y3"
      },
      "execution_count": 59,
      "outputs": []
    },
    {
      "cell_type": "code",
      "source": [
        "review_t"
      ],
      "metadata": {
        "colab": {
          "base_uri": "https://localhost:8080/"
        },
        "id": "1dojVmvp-fNc",
        "outputId": "6c126201-ced9-4a10-ef17-12f82c113c64"
      },
      "execution_count": 60,
      "outputs": [
        {
          "output_type": "execute_result",
          "data": {
            "text/plain": [
              "0                          조금 작습니다 ㅜㅜ 한치수 크게살걸 그랬습니다 아쉽네요\n",
              "1       무적권 사세요…핏이 진짜 이쁘고 소재도 밀도가 높아서 오버한 핏이 잘잡힘\\r\\n\\r...\n",
              "2                           후드티라 더 더워지기전에 자주 입을것 같아 만족합니다\n",
              "3             꽤나 두껍네요. 늦봄까지 입기엔 글쎄요 하지만 옷이 이뻐서 그래도 더울것같네요\n",
              "4                두껍지 않지만 탄탄한 후드입니다 몸 기장과 팔 기장이 통에 비해 길진 x\n",
              "                              ...                        \n",
              "6761                      품질이 좋아요\\r\\n프린트 디자인이 포인트로 넘 예쁘네요\n",
              "6762               뒤 포인트가 예뻐요.\\r\\n레깅스나 청바지\\r\\n다 잘 어울릴듯 해요\n",
              "6763                      사이즈가 조금 크긴하지만 오버핏으로 입기 좋을거 같습니다\n",
              "6764                 원단 탄탄하고 오버핏으로 이뻐용 큰거좋아해서 만족합니다 많이파세용\n",
              "6765    얇고 신축성있는 이런 니트들의 특성상 몸을 타고 흐르는 실루엣이라 같은사이즈의 다른...\n",
              "Name: review, Length: 6766, dtype: object"
            ]
          },
          "metadata": {},
          "execution_count": 60
        }
      ]
    },
    {
      "cell_type": "code",
      "source": [
        "sample_t = review_t.sample(frac=0.75, random_state=42)\n",
        "sample_o = review_o.sample(frac=0.75, random_state=42)\n",
        "sample_b = review_b.sample(frac=0.75, random_state=42)"
      ],
      "metadata": {
        "id": "QlU9gOeQ-gaQ"
      },
      "execution_count": 61,
      "outputs": []
    },
    {
      "cell_type": "code",
      "source": [
        "sample_t"
      ],
      "metadata": {
        "colab": {
          "base_uri": "https://localhost:8080/"
        },
        "id": "71Q1XkMVUPBA",
        "outputId": "2998957f-c51f-4cb0-f930-cb9b0e51c41b"
      },
      "execution_count": 62,
      "outputs": [
        {
          "output_type": "execute_result",
          "data": {
            "text/plain": [
              "457                   길이는 엉덩이 조금 못 가리는 정도?고 통이 생각보다 안 넓어요\n",
              "6476    원단이 두툼하면서 촉감도 부드럽네요.\\r\\n\\r\\n색감은 화면보다는 살짝 어두운것 ...\n",
              "217                    정사이즈로 가면 제 스펙 기준 딱 좋은 오버핏나오는거 같네요!\n",
              "4314    좋아요\\r\\n질도 좋고 저렴하고\\r\\n구멍나면 또 살게요~~~~~\\r\\n목만 좀더 ...\n",
              "534     음 배송지연이 계속되서 환불할까햇는데 곰돌이가 귀여워서 계속기다려서 받앗어용 음.....\n",
              "                              ...                        \n",
              "5338    너무 귀여워요 .ᐟ.ᐟ uv여서 햇빛닿으면 색 나오고 그늘로 들어가면 색 사라지는게...\n",
              "1690                     잘받았습니다 퀄리티 좋네요ㅎㅎ앞으로도 자주 착용할거 같아요\n",
              "5837                      올리브색이 필요했는데 잘 구매한것 같아요! 이쁩니다 ㅎㅎ\n",
              "1985            디자인은 위에서 아래까지 길이는 만족하지만 팔 길이가 짧아서 조금 아쉽네용\n",
              "294         깔끔하고 폴로로고가 주는 느낌이 건지나네요 핏은 정핏에서 살짝 오버한 느낌입니다.\n",
              "Name: review, Length: 5074, dtype: object"
            ]
          },
          "metadata": {},
          "execution_count": 62
        }
      ]
    },
    {
      "cell_type": "code",
      "source": [
        "# 정규 표현식으로 데이터 정제\n",
        "sample_t = sample_t.str.replace(\"[^ㄱ-ㅎㅏ-ㅣ가-힣 ]\",\"\")\n",
        "sample_o = sample_o.str.replace(\"[^ㄱ-ㅎㅏ-ㅣ가-힣 ]\",\"\")\n",
        "sample_b = sample_b.str.replace(\"[^ㄱ-ㅎㅏ-ㅣ가-힣 ]\",\"\")"
      ],
      "metadata": {
        "colab": {
          "base_uri": "https://localhost:8080/"
        },
        "id": "7ddHHI2ddShR",
        "outputId": "ccb982fb-75b3-43a9-d110-73d3e50dac60"
      },
      "execution_count": 63,
      "outputs": [
        {
          "output_type": "stream",
          "name": "stderr",
          "text": [
            "<ipython-input-63-c821ae0dac47>:2: FutureWarning: The default value of regex will change from True to False in a future version.\n",
            "  sample_t = sample_t.str.replace(\"[^ㄱ-ㅎㅏ-ㅣ가-힣 ]\",\"\")\n",
            "<ipython-input-63-c821ae0dac47>:3: FutureWarning: The default value of regex will change from True to False in a future version.\n",
            "  sample_o = sample_o.str.replace(\"[^ㄱ-ㅎㅏ-ㅣ가-힣 ]\",\"\")\n",
            "<ipython-input-63-c821ae0dac47>:4: FutureWarning: The default value of regex will change from True to False in a future version.\n",
            "  sample_b = sample_b.str.replace(\"[^ㄱ-ㅎㅏ-ㅣ가-힣 ]\",\"\")\n"
          ]
        }
      ]
    },
    {
      "cell_type": "code",
      "source": [
        "# 토큰화 수행\n",
        "\n",
        "# 불용어 정의\n",
        "stopwords=['것','을','요','안','같아요','너무','로','딱','옷','입기','의','가','이','은','들','는','좀','잘','걍','과','도','를','으로','자','에','와','한','하다']\n",
        "\n",
        "# Otk\n",
        "tokenizer = Okt()\n",
        "tokenized_t =[]\n",
        "for sentence in sample_t:\n",
        "    temp = tokenizer.morphs(sentence) # 1. 토큰화\n",
        "    temp = [word for word in temp if not word in stopwords] # 2. 불용어 제거\n",
        "    tokenized_t.append(temp)\n",
        "\n",
        "print(tokenized_t[:10])"
      ],
      "metadata": {
        "colab": {
          "base_uri": "https://localhost:8080/"
        },
        "id": "8sTL-RUMTpto",
        "outputId": "787cdcc4-683a-49af-a22a-caaa961a2107"
      },
      "execution_count": 64,
      "outputs": [
        {
          "output_type": "stream",
          "name": "stdout",
          "text": [
            "[['길이', '엉덩이', '조금', '못', '가리는', '정도', '고', '통', '생각', '보다', '넓어요'], ['원단', '두', '툼', '하면서', '촉감', '부드럽네요', '색감', '화면', '보다는', '살짝', '어', '두', '운것', '같습니다'], ['정사', '이즈', '가면', '제', '스펙', '기준', '좋은', '오', '버핏', '나오는거', '같네요'], ['좋아요', '질도', '좋고', '저렴하고', '구멍', '나면', '또', '살게요', '목', '만', '좀더', '탄탄하면', '좋겟어요', '넘나', '허', '벌텅', '합', '네', '다'], ['음', '배송', '지연', '계속', '되서', '환불', '할까', '햇', '는데', '곰돌이', '귀여워서', '계속', '기다려서', '받앗어용', '음', '근데', '음', '귀엽', '긴한데', '사진', '상', '보다', '프린팅', '훨씬', '큽니다', '예', '훨씬', '커요', '몸', '프린팅', '먹히', 'ㅂ', '니다', '그래도', '귀엽', '네오'], ['사이즈', '넉넉하고', '편해요', '오래', '기다려서', '배송', '받은거', '빼고는', '예뻐요', '자주', '입고', '나갈꺼'], ['오염', '만', '조심하고', '이쁘게', '입자', '그러나', '새', '제품', '인데', '올이', '풀려있다', '그래서', '별', '점', '개다'], ['가슴', '쪽', '살짝', '따끔', '거리', '부분', '있어요', '다른건', '다', '좋아요'], ['이쁘고', '귀엽네요', '핏', '사진', '보다', '더', '만족스럽네요'], ['색상', '예쁘고', '좋아요', '하지만', '조금', '니트', '두꺼운', '소재', '라', '곧', '더워지면', '몇번', '못', '입는', '듯', '하', 'ㄴㅔ']]\n"
          ]
        }
      ]
    },
    {
      "cell_type": "code",
      "source": [
        "# 토큰화 수행\n",
        "\n",
        "# 불용어 정의\n",
        "stopwords=['것','을','요','안','같아요','너무','로','딱','옷','입기','의','가','이','은','들','는','좀','잘','걍','과','도','를','으로','자','에','와','한','하다']\n",
        "\n",
        "# Otk\n",
        "tokenizer = Okt()\n",
        "tokenized_o =[]\n",
        "for sentence in sample_o:\n",
        "    temp = tokenizer.morphs(sentence) # 1. 토큰화\n",
        "    temp = [word for word in temp if not word in stopwords] # 2. 불용어 제거\n",
        "    tokenized_o.append(temp)\n",
        "\n",
        "print(tokenized_o[:10])"
      ],
      "metadata": {
        "colab": {
          "base_uri": "https://localhost:8080/"
        },
        "id": "krlJHHowUM70",
        "outputId": "e1c010cb-d15a-437a-d32c-d918f7598acc"
      },
      "execution_count": 65,
      "outputs": [
        {
          "output_type": "stream",
          "name": "stdout",
          "text": [
            "[['배송', '월요일', '주문', '해서', '오늘', '받았고', '촉감', '부드러워요', '단추', '살짝', '뻣뻣한', '느낌', '있고', '엄청', '짧지', '않고', '적당히', '크롭', '이고', '맘', '들어요'], ['스커트', '밴딩', '매', '조이', '지', '않아서', '조아여', '편하게', '이뿌게', '입을수이음', 'ㅠ'], ['크롭해', '서', '레이어', '드', '해서', '입으면', '이쁩니다계', '절감', '생각', '해서', '너', '반', '팔', '입으면', '좋습니다'], ['사이즈', '랑', '두께', '감도', '적당하구', '한여름', '전', '까진', '입을수', '있을것', 'ㅎㅎ', '색감', '이뻐요'], ['요즘', '날씨', '반', '팔', '입으면', '딱입니다오래', '걸려서', '받아서', '더', '기분', '좋', '네', '여'], ['사이즈', '커서', '여름', '용', '으로도', '좋을', '같습니다', '엄청', '얇진', '않아요', '색감', '산뜻하면서도', '밝지', '않아서', '좋아요', '이쁩니다', '재질', '막', '부드럽고', '좋은', '니트', '재질', '아닌데', '오히려', '덜', '부드러워서', '그게', '시원한', '거', '같기도', '하네요', '길이', '엉덩이', '절반', '정도', '덮어요', '밑', '레이어', '드', '흰색', '그렇게', '짧은', '아닌데', '삐져', '나오려면', '접어야', '합니다', '가격', '대', '비해', '나쁘지', '않은', '저', '처럼', '니트', '베스트', '처음', '시도', '하는', '사람', '이면', '제품', '시작', '해도', '좋을', '같습니다'], ['생각', '보다', '얆', '긴한데', '여기저기', '막', '좋아요', '생각', '보다', '이쁩니다'], ['생각', '했던', '핏', '이라서', '맘', '들었고', '지금', '날씨', '좋은', '후드', '집업', '입니다'], ['긴', '바지라', '면', '지금', '날씨', '좋을', '같습니다', '색', '예쁩니다'], ['간절', '기', '입고', '다녀요', '색상', '이쁘고', '핏', '좋네요']]\n"
          ]
        }
      ]
    },
    {
      "cell_type": "code",
      "source": [
        "# 토큰화 수행\n",
        "\n",
        "# 불용어 정의\n",
        "stopwords=['것','을','요','안','같아요','너무','로','딱','옷','입기','의','가','이','은','들','는','좀','잘','걍','과','도','를','으로','자','에','와','한','하다']\n",
        "\n",
        "# Otk\n",
        "tokenizer = Okt()\n",
        "tokenized_b =[]\n",
        "for sentence in sample_b:\n",
        "    temp = tokenizer.morphs(sentence) # 1. 토큰화\n",
        "    temp = [word for word in temp if not word in stopwords] # 2. 불용어 제거\n",
        "    tokenized_b.append(temp)\n",
        "\n",
        "print(tokenized_b[:10])"
      ],
      "metadata": {
        "colab": {
          "base_uri": "https://localhost:8080/"
        },
        "id": "THvOCrv1Vj39",
        "outputId": "e8e44f57-e113-40a9-e121-0583658a12e1"
      },
      "execution_count": 66,
      "outputs": [
        {
          "output_type": "stream",
          "name": "stdout",
          "text": [
            "[['한번', '빨', '고', '이렇게', '됨', '장난', '하', '나', 'ㅋㅋ', '크롭티', '랑', '입을거라', '끈', '보', '일텐데', '입을듯', '괜히', '삼', '질', '구림'], ['평소', '에는', '입는데', '크고', '편하게', '입고싶어서', '이번', '엔', '고민', '하다가', '주문', '햇', '는데', '좋은', '선택', '엇습', '니', '다', '진짜', '편하고', '면도', '좋고', '시원해요', '글', '고', '속', '바지', '잇는게', '신의', '한수', 'ㅠㅠ', '글', '고', '허리', '스트링', '귀엽고', '편하고', '이뻐용', '꼭', '사세요', '저', '하나', '더', '구입', '할까', '생각', '중', '입니다'], ['가성', '비', '좋네요', '입고', '다닐거', '같습니다', '추천', '해요'], ['색감', '정말', '오묘하면서도', '이쁘고', '독특해요', '흔하지', '않아요'], ['허벅지', '큰', '사람', '에게', '딱입니다', '꼭', '사서', '입으세요'], ['기장', '긴데', '풀밴딩', '이라', '올려', '입으니', '되네요', '여름', '에도', '시원하게', '입', '수', '있을듯', '해'], ['편하고', '좋아요', '자주', '입게', '될것', '검정색', '살까봐'], ['핏', '이쁘고', '편해요', '봄', '가을', '시원하고', '완전', '여름', '에는', '더울거', '같은', '느낌이네요'], ['색깔', '다', '이쁘다고', '하더라구요', '다만', '엠', '사이즈', '인데', '불구', '하고', '허리', '끈', '꽉', '조여', '메도', '허리', '큽니다', '사이즈', '빼고', '만족'], ['품질', '만족하는데', '사이즈', '엉터리', '라', '불만', '이네', '허리', '이라', '보통', '약간', '큰데', '맞더군요', '사이즈', '보고', '샀는데도']]\n"
          ]
        }
      ]
    },
    {
      "cell_type": "code",
      "source": [
        "from nltk import FreqDist\n",
        "\n",
        "vocab_t = FreqDist(np.hstack(tokenized_t)) # 빈도수 계산도구인 FreqDist()로 빈도수 계산\n",
        "\n",
        "# 상위 500개의 단어만 단어 집합으로 저장 예\n",
        "vocab_size = 500\n",
        "\n",
        "# 상위 500의 단어만 보존\n",
        "vocab_t = vocab_t.most_common(vocab_size)\n",
        "print('단어 집합의 크기 : {}'.format(len(vocab_t)))\n",
        "vocab_t[:10] # 단어 집합 10개만 내용 확인('단어', 빈도수)"
      ],
      "metadata": {
        "colab": {
          "base_uri": "https://localhost:8080/"
        },
        "id": "5D3TLnyeVmf0",
        "outputId": "c3cffc9b-e7b6-4be5-eb1f-d6cb92a80362"
      },
      "execution_count": 67,
      "outputs": [
        {
          "output_type": "stream",
          "name": "stdout",
          "text": [
            "단어 집합의 크기 : 500\n"
          ]
        },
        {
          "output_type": "execute_result",
          "data": {
            "text/plain": [
              "[('사이즈', 968),\n",
              " ('좋아요', 774),\n",
              " ('핏', 752),\n",
              " ('생각', 593),\n",
              " ('보다', 558),\n",
              " ('재질', 455),\n",
              " ('다', 435),\n",
              " ('오', 410),\n",
              " ('입고', 393),\n",
              " ('버핏', 377)]"
            ]
          },
          "metadata": {},
          "execution_count": 67
        }
      ]
    },
    {
      "cell_type": "code",
      "source": [
        "vocab_o = FreqDist(np.hstack(tokenized_o)) # 빈도수 계산도구인 FreqDist()로 빈도수 계산\n",
        "\n",
        "# 상위 500개의 단어만 단어 집합으로 저장 예\n",
        "vocab_size = 500\n",
        "\n",
        "# 상위 500의 단어만 보존\n",
        "vocab_o = vocab_o.most_common(vocab_size)\n",
        "print('단어 집합의 크기 : {}'.format(len(vocab_o)))\n",
        "vocab_o[:10] # 단어 집합 10개만 내용 확인('단어', 빈도수)"
      ],
      "metadata": {
        "colab": {
          "base_uri": "https://localhost:8080/"
        },
        "id": "jc5F6Peaa0ZE",
        "outputId": "ff81ee88-a468-4be8-b7bd-54639cdfcc24"
      },
      "execution_count": 68,
      "outputs": [
        {
          "output_type": "stream",
          "name": "stdout",
          "text": [
            "단어 집합의 크기 : 500\n"
          ]
        },
        {
          "output_type": "execute_result",
          "data": {
            "text/plain": [
              "[('사이즈', 1017),\n",
              " ('좋아요', 826),\n",
              " ('핏', 713),\n",
              " ('생각', 688),\n",
              " ('보다', 582),\n",
              " ('다', 539),\n",
              " ('입고', 507),\n",
              " ('때', 488),\n",
              " ('구매', 440),\n",
              " ('거', 427)]"
            ]
          },
          "metadata": {},
          "execution_count": 68
        }
      ]
    },
    {
      "cell_type": "code",
      "source": [
        "vocab_b = FreqDist(np.hstack(tokenized_b)) # 빈도수 계산도구인 FreqDist()로 빈도수 계산\n",
        "\n",
        "# 상위 500개의 단어만 단어 집합으로 저장 예\n",
        "vocab_size = 500\n",
        "\n",
        "# 상위 500의 단어만 보존\n",
        "vocab_b = vocab_b.most_common(vocab_size)\n",
        "print('단어 집합의 크기 : {}'.format(len(vocab_b)))\n",
        "vocab_b[:10] # 단어 집합 10개만 내용 확인('단어', 빈도수)"
      ],
      "metadata": {
        "colab": {
          "base_uri": "https://localhost:8080/"
        },
        "id": "soetD82Vefce",
        "outputId": "0c981cff-6de4-446f-e770-142e391637c8"
      },
      "execution_count": 69,
      "outputs": [
        {
          "output_type": "stream",
          "name": "stdout",
          "text": [
            "단어 집합의 크기 : 500\n"
          ]
        },
        {
          "output_type": "execute_result",
          "data": {
            "text/plain": [
              "[('핏', 1346),\n",
              " ('바지', 1183),\n",
              " ('사이즈', 1010),\n",
              " ('허리', 763),\n",
              " ('기장', 639),\n",
              " ('생각', 625),\n",
              " ('좋아요', 600),\n",
              " ('보다', 592),\n",
              " ('다', 556),\n",
              " ('구매', 556)]"
            ]
          },
          "metadata": {},
          "execution_count": 69
        }
      ]
    },
    {
      "cell_type": "code",
      "source": [
        "df['review_type'] = df['review_type'].replace({'낮은 평점' : 0, '높은 평점' : 1})\n",
        "df['review_type']"
      ],
      "metadata": {
        "colab": {
          "base_uri": "https://localhost:8080/"
        },
        "id": "A-PaB7tik4ZF",
        "outputId": "5a26cd7f-1e7c-41dc-ecc1-70316e5f4cf4"
      },
      "execution_count": 70,
      "outputs": [
        {
          "output_type": "execute_result",
          "data": {
            "text/plain": [
              "0        0\n",
              "1        0\n",
              "2        0\n",
              "3        0\n",
              "4        0\n",
              "        ..\n",
              "20912    1\n",
              "20913    1\n",
              "20914    1\n",
              "20915    1\n",
              "20916    1\n",
              "Name: review_type, Length: 20917, dtype: int64"
            ]
          },
          "metadata": {},
          "execution_count": 70
        }
      ]
    },
    {
      "cell_type": "code",
      "source": [
        "from sklearn.model_selection import train_test_split\n",
        "train_data, test_data = train_test_split(df, test_size=0.25, random_state=42)"
      ],
      "metadata": {
        "id": "GOt5vO3Nu2qc"
      },
      "execution_count": 86,
      "outputs": []
    },
    {
      "cell_type": "code",
      "source": [
        "# 필요한 컬럼만 남기고 drop\n",
        "train_data = train_data.drop({'brand_name', 'consumer rating', 'consumer_height', 'consumer_weight'}, axis=1)\n",
        "test_data = test_data.drop({'brand_name', 'consumer rating', 'consumer_height', 'consumer_weight'}, axis=1)"
      ],
      "metadata": {
        "id": "WE0CuvlYxYk-"
      },
      "execution_count": 87,
      "outputs": []
    },
    {
      "cell_type": "code",
      "source": [
        "# 중복데이터 제거\n",
        "train_data.drop_duplicates(subset=['review'], inplace=True)\n",
        "test_data.drop_duplicates(subset=['review'], inplace=True)"
      ],
      "metadata": {
        "id": "JT8z7Rew2IqR"
      },
      "execution_count": 88,
      "outputs": []
    },
    {
      "cell_type": "code",
      "source": [
        "# 데이터 전처리\n",
        "train_data['review'] = train_data['review'].str.replace(\"[^ㄱ-ㅎㅏ-ㅣ가-힣 ]\",\"\") # 한글과 공백을 제외하고 모두 제거\n",
        "train_data[:5]"
      ],
      "metadata": {
        "colab": {
          "base_uri": "https://localhost:8080/",
          "height": 262
        },
        "id": "UoG27_Yhyiy8",
        "outputId": "d1c4f9cc-1f07-4f7f-b348-07df301cc495"
      },
      "execution_count": 89,
      "outputs": [
        {
          "output_type": "stream",
          "name": "stderr",
          "text": [
            "<ipython-input-89-e0416f695eb2>:2: FutureWarning: The default value of regex will change from True to False in a future version.\n",
            "  train_data['review'] = train_data['review'].str.replace(\"[^ㄱ-ㅎㅏ-ㅣ가-힣 ]\",\"\") # 한글과 공백을 제외하고 모두 제거\n"
          ]
        },
        {
          "output_type": "execute_result",
          "data": {
            "text/plain": [
              "      category  review_type  rating  \\\n",
              "12286      아우터            1     4.8   \n",
              "1305        상의            0     4.9   \n",
              "8359       아우터            1     4.8   \n",
              "4303        상의            1     4.8   \n",
              "11152      아우터            1     4.9   \n",
              "\n",
              "                                                  review consumer_sex  \n",
              "12286                     너무예쁨ㅠㅠ 지금 입기 딱 좋아욤 근데 팔이 좀 길어여           남성  \n",
              "1305   상체발달형 체형이라 너무 부해보일까봐 스몰사이즈 주문했는데 ㅎㅎ 만족합니다 소재가 ...           남성  \n",
              "8359   굿 체감상 기장이 보다 긴 것 같지만 기분 탓이겠죠 근데 좋아요 가을 오면 자주 입을 듯           남성  \n",
              "4303               디자인도 예쁘고 박시한 느낌이라 올 여름 편안하게 입을 것 같습니다           여성  \n",
              "11152              얇고 바스락거리는소재에 화면과같아요 엄브로색조합은 언제나 짱입니다ㅎ           남성  "
            ],
            "text/html": [
              "\n",
              "  <div id=\"df-93c53813-f56e-46c4-867d-6f8f86725183\">\n",
              "    <div class=\"colab-df-container\">\n",
              "      <div>\n",
              "<style scoped>\n",
              "    .dataframe tbody tr th:only-of-type {\n",
              "        vertical-align: middle;\n",
              "    }\n",
              "\n",
              "    .dataframe tbody tr th {\n",
              "        vertical-align: top;\n",
              "    }\n",
              "\n",
              "    .dataframe thead th {\n",
              "        text-align: right;\n",
              "    }\n",
              "</style>\n",
              "<table border=\"1\" class=\"dataframe\">\n",
              "  <thead>\n",
              "    <tr style=\"text-align: right;\">\n",
              "      <th></th>\n",
              "      <th>category</th>\n",
              "      <th>review_type</th>\n",
              "      <th>rating</th>\n",
              "      <th>review</th>\n",
              "      <th>consumer_sex</th>\n",
              "    </tr>\n",
              "  </thead>\n",
              "  <tbody>\n",
              "    <tr>\n",
              "      <th>12286</th>\n",
              "      <td>아우터</td>\n",
              "      <td>1</td>\n",
              "      <td>4.8</td>\n",
              "      <td>너무예쁨ㅠㅠ 지금 입기 딱 좋아욤 근데 팔이 좀 길어여</td>\n",
              "      <td>남성</td>\n",
              "    </tr>\n",
              "    <tr>\n",
              "      <th>1305</th>\n",
              "      <td>상의</td>\n",
              "      <td>0</td>\n",
              "      <td>4.9</td>\n",
              "      <td>상체발달형 체형이라 너무 부해보일까봐 스몰사이즈 주문했는데 ㅎㅎ 만족합니다 소재가 ...</td>\n",
              "      <td>남성</td>\n",
              "    </tr>\n",
              "    <tr>\n",
              "      <th>8359</th>\n",
              "      <td>아우터</td>\n",
              "      <td>1</td>\n",
              "      <td>4.8</td>\n",
              "      <td>굿 체감상 기장이 보다 긴 것 같지만 기분 탓이겠죠 근데 좋아요 가을 오면 자주 입을 듯</td>\n",
              "      <td>남성</td>\n",
              "    </tr>\n",
              "    <tr>\n",
              "      <th>4303</th>\n",
              "      <td>상의</td>\n",
              "      <td>1</td>\n",
              "      <td>4.8</td>\n",
              "      <td>디자인도 예쁘고 박시한 느낌이라 올 여름 편안하게 입을 것 같습니다</td>\n",
              "      <td>여성</td>\n",
              "    </tr>\n",
              "    <tr>\n",
              "      <th>11152</th>\n",
              "      <td>아우터</td>\n",
              "      <td>1</td>\n",
              "      <td>4.9</td>\n",
              "      <td>얇고 바스락거리는소재에 화면과같아요 엄브로색조합은 언제나 짱입니다ㅎ</td>\n",
              "      <td>남성</td>\n",
              "    </tr>\n",
              "  </tbody>\n",
              "</table>\n",
              "</div>\n",
              "      <button class=\"colab-df-convert\" onclick=\"convertToInteractive('df-93c53813-f56e-46c4-867d-6f8f86725183')\"\n",
              "              title=\"Convert this dataframe to an interactive table.\"\n",
              "              style=\"display:none;\">\n",
              "        \n",
              "  <svg xmlns=\"http://www.w3.org/2000/svg\" height=\"24px\"viewBox=\"0 0 24 24\"\n",
              "       width=\"24px\">\n",
              "    <path d=\"M0 0h24v24H0V0z\" fill=\"none\"/>\n",
              "    <path d=\"M18.56 5.44l.94 2.06.94-2.06 2.06-.94-2.06-.94-.94-2.06-.94 2.06-2.06.94zm-11 1L8.5 8.5l.94-2.06 2.06-.94-2.06-.94L8.5 2.5l-.94 2.06-2.06.94zm10 10l.94 2.06.94-2.06 2.06-.94-2.06-.94-.94-2.06-.94 2.06-2.06.94z\"/><path d=\"M17.41 7.96l-1.37-1.37c-.4-.4-.92-.59-1.43-.59-.52 0-1.04.2-1.43.59L10.3 9.45l-7.72 7.72c-.78.78-.78 2.05 0 2.83L4 21.41c.39.39.9.59 1.41.59.51 0 1.02-.2 1.41-.59l7.78-7.78 2.81-2.81c.8-.78.8-2.07 0-2.86zM5.41 20L4 18.59l7.72-7.72 1.47 1.35L5.41 20z\"/>\n",
              "  </svg>\n",
              "      </button>\n",
              "      \n",
              "  <style>\n",
              "    .colab-df-container {\n",
              "      display:flex;\n",
              "      flex-wrap:wrap;\n",
              "      gap: 12px;\n",
              "    }\n",
              "\n",
              "    .colab-df-convert {\n",
              "      background-color: #E8F0FE;\n",
              "      border: none;\n",
              "      border-radius: 50%;\n",
              "      cursor: pointer;\n",
              "      display: none;\n",
              "      fill: #1967D2;\n",
              "      height: 32px;\n",
              "      padding: 0 0 0 0;\n",
              "      width: 32px;\n",
              "    }\n",
              "\n",
              "    .colab-df-convert:hover {\n",
              "      background-color: #E2EBFA;\n",
              "      box-shadow: 0px 1px 2px rgba(60, 64, 67, 0.3), 0px 1px 3px 1px rgba(60, 64, 67, 0.15);\n",
              "      fill: #174EA6;\n",
              "    }\n",
              "\n",
              "    [theme=dark] .colab-df-convert {\n",
              "      background-color: #3B4455;\n",
              "      fill: #D2E3FC;\n",
              "    }\n",
              "\n",
              "    [theme=dark] .colab-df-convert:hover {\n",
              "      background-color: #434B5C;\n",
              "      box-shadow: 0px 1px 3px 1px rgba(0, 0, 0, 0.15);\n",
              "      filter: drop-shadow(0px 1px 2px rgba(0, 0, 0, 0.3));\n",
              "      fill: #FFFFFF;\n",
              "    }\n",
              "  </style>\n",
              "\n",
              "      <script>\n",
              "        const buttonEl =\n",
              "          document.querySelector('#df-93c53813-f56e-46c4-867d-6f8f86725183 button.colab-df-convert');\n",
              "        buttonEl.style.display =\n",
              "          google.colab.kernel.accessAllowed ? 'block' : 'none';\n",
              "\n",
              "        async function convertToInteractive(key) {\n",
              "          const element = document.querySelector('#df-93c53813-f56e-46c4-867d-6f8f86725183');\n",
              "          const dataTable =\n",
              "            await google.colab.kernel.invokeFunction('convertToInteractive',\n",
              "                                                     [key], {});\n",
              "          if (!dataTable) return;\n",
              "\n",
              "          const docLinkHtml = 'Like what you see? Visit the ' +\n",
              "            '<a target=\"_blank\" href=https://colab.research.google.com/notebooks/data_table.ipynb>data table notebook</a>'\n",
              "            + ' to learn more about interactive tables.';\n",
              "          element.innerHTML = '';\n",
              "          dataTable['output_type'] = 'display_data';\n",
              "          await google.colab.output.renderOutput(dataTable, element);\n",
              "          const docLink = document.createElement('div');\n",
              "          docLink.innerHTML = docLinkHtml;\n",
              "          element.appendChild(docLink);\n",
              "        }\n",
              "      </script>\n",
              "    </div>\n",
              "  </div>\n",
              "  "
            ]
          },
          "metadata": {},
          "execution_count": 89
        }
      ]
    },
    {
      "cell_type": "code",
      "source": [
        "# 테스트 데이터도 전처리\n",
        "test_data['review'] = test_data['review'].str.replace(\"[^ㄱ-ㅎㅏ-ㅣ가-힣 ]\",\"\") # 한글과 공백을 제외하고 모두 제거\n",
        "print('전처리 후 테스트용 샘플 개수 :', len(test_data))"
      ],
      "metadata": {
        "colab": {
          "base_uri": "https://localhost:8080/"
        },
        "id": "qlC0AxI9y9aa",
        "outputId": "efe27f6a-eae5-480a-86bc-00bf61997dc6"
      },
      "execution_count": 90,
      "outputs": [
        {
          "output_type": "stream",
          "name": "stdout",
          "text": [
            "전처리 후 테스트용 샘플 개수 : 4177\n"
          ]
        },
        {
          "output_type": "stream",
          "name": "stderr",
          "text": [
            "<ipython-input-90-404c89a77b2a>:2: FutureWarning: The default value of regex will change from True to False in a future version.\n",
            "  test_data['review'] = test_data['review'].str.replace(\"[^ㄱ-ㅎㅏ-ㅣ가-힣 ]\",\"\") # 한글과 공백을 제외하고 모두 제거\n"
          ]
        }
      ]
    },
    {
      "cell_type": "code",
      "source": [
        "# 데이터 확인\n",
        "train_data.info()\n",
        "print(\"=\"*50)\n",
        "test_data.info() "
      ],
      "metadata": {
        "colab": {
          "base_uri": "https://localhost:8080/"
        },
        "id": "NS9LcqrU0iQ4",
        "outputId": "3f23d37d-0bc8-4c1d-b485-4cdb5968a6d1"
      },
      "execution_count": 91,
      "outputs": [
        {
          "output_type": "stream",
          "name": "stdout",
          "text": [
            "<class 'pandas.core.frame.DataFrame'>\n",
            "Int64Index: 9024 entries, 12286 to 11964\n",
            "Data columns (total 5 columns):\n",
            " #   Column        Non-Null Count  Dtype  \n",
            "---  ------        --------------  -----  \n",
            " 0   category      9024 non-null   object \n",
            " 1   review_type   9024 non-null   int64  \n",
            " 2   rating        9024 non-null   float64\n",
            " 3   review        9024 non-null   object \n",
            " 4   consumer_sex  9024 non-null   object \n",
            "dtypes: float64(1), int64(1), object(3)\n",
            "memory usage: 423.0+ KB\n",
            "==================================================\n",
            "<class 'pandas.core.frame.DataFrame'>\n",
            "Int64Index: 4177 entries, 11720 to 13164\n",
            "Data columns (total 5 columns):\n",
            " #   Column        Non-Null Count  Dtype  \n",
            "---  ------        --------------  -----  \n",
            " 0   category      4177 non-null   object \n",
            " 1   review_type   4177 non-null   int64  \n",
            " 2   rating        4177 non-null   float64\n",
            " 3   review        4177 non-null   object \n",
            " 4   consumer_sex  4177 non-null   object \n",
            "dtypes: float64(1), int64(1), object(3)\n",
            "memory usage: 195.8+ KB\n"
          ]
        }
      ]
    },
    {
      "cell_type": "code",
      "source": [
        "# 데이터 길이 분포 확인하기\n",
        "import matplotlib.pyplot as plt\n",
        "\n",
        "min_len = 999\n",
        "max_len = 0\n",
        "sum_len = 0\n",
        "\n",
        "for sen in train_data['review']:\n",
        "    length = len(sen)\n",
        "    \n",
        "    # 문장 최소 길이 찾기\n",
        "    if min_len > length: \n",
        "        min_len = length\n",
        "    \n",
        "    # 문장 최대 길이 찾기\n",
        "    if max_len < length: \n",
        "        max_len = length\n",
        "        \n",
        "    # 전체 문장을 합치면 길이가 얼마나 될까요?\n",
        "    sum_len += length\n",
        "\n",
        "print(\"문장의 최단 길이:\", min_len)\n",
        "print(\"문장의 최장 길이:\", max_len)\n",
        "print(\"문장의 평균 길이:\", sum_len // len(train_data))\n",
        "\n",
        "# 전체 길이만큼 0벡터\n",
        "sentence_length = np.zeros((max_len), dtype=np.int)\n",
        "print(\"sentence_length : \",sentence_length)\n",
        "\n",
        "print(\"=\"*60)\n",
        "\n",
        "for sen in train_data['review']:\n",
        "    sentence_length[len(sen)-1] += 1 # 0으로 이루어진 벡터에 문장 count를 더한 뒤 넣는다.\n",
        "\n",
        "plt.bar(range(max_len), sentence_length, width=1.0) # 너비는 1.0씩 늘어나도록 설정\n",
        "plt.title(\"Sentence Length Distribution\")\n",
        "plt.show()"
      ],
      "metadata": {
        "colab": {
          "base_uri": "https://localhost:8080/",
          "height": 444
        },
        "id": "azokhW930lmP",
        "outputId": "ec2edaf1-8579-4beb-bac5-75e732b0f75c"
      },
      "execution_count": 92,
      "outputs": [
        {
          "output_type": "stream",
          "name": "stderr",
          "text": [
            "<ipython-input-92-94811a83dc13>:27: DeprecationWarning: `np.int` is a deprecated alias for the builtin `int`. To silence this warning, use `int` by itself. Doing this will not modify any behavior and is safe. When replacing `np.int`, you may wish to use e.g. `np.int64` or `np.int32` to specify the precision. If you wish to review your current use, check the release note link for additional information.\n",
            "Deprecated in NumPy 1.20; for more details and guidance: https://numpy.org/devdocs/release/1.20.0-notes.html#deprecations\n",
            "  sentence_length = np.zeros((max_len), dtype=np.int)\n"
          ]
        },
        {
          "output_type": "stream",
          "name": "stdout",
          "text": [
            "문장의 최단 길이: 18\n",
            "문장의 최장 길이: 1079\n",
            "문장의 평균 길이: 51\n",
            "sentence_length :  [0 0 0 ... 0 0 0]\n",
            "============================================================\n"
          ]
        },
        {
          "output_type": "display_data",
          "data": {
            "text/plain": [
              "<Figure size 432x288 with 1 Axes>"
            ],
            "image/png": "[encoded data removed]"
          },
          "metadata": {
            "needs_background": "light"
          }
        }
      ]
    },
    {
      "cell_type": "code",
      "source": [
        "# 길이 100이하로 한정해 데이터를 만듭니다. ==> 너무 짧은 리뷰는 의미가 없음\n",
        "\n",
        "train_list = [s for s in train_data['review'] if (len(s) <= 100)]\n",
        "test_list = [s for s in test_data['review'] if (len(s) <= 100)]\n",
        "\n",
        "train_list = list(set(train_list))\n",
        "test_list = list(set(test_list))\n",
        "\n",
        "train_df = pd.DataFrame(train_list)\n",
        "test_df = pd.DataFrame(test_list)"
      ],
      "metadata": {
        "id": "-pol8JNb1AoO"
      },
      "execution_count": 93,
      "outputs": []
    },
    {
      "cell_type": "code",
      "source": [
        "# 길이 100이하인 데이터를 기존 데이터와 병합합니다.\n",
        "\n",
        "new_train_df = pd.merge(train_data, train_df, how='inner', left_on='review', right_on=0)\n",
        "new_test_df = pd.merge(test_data, test_df, how='inner', left_on='review', right_on=0)\n",
        "\n",
        "train_data = new_train_df[['category',\t'review_type',\t'rating',\t'review',\t'consumer_sex']]\n",
        "test_data = new_test_df[['category',\t'review_type',\t'rating',\t'review',\t'consumer_sex']]"
      ],
      "metadata": {
        "id": "EuYMuSqQ1X28"
      },
      "execution_count": 94,
      "outputs": []
    },
    {
      "cell_type": "code",
      "source": [
        "display(train_data.head())\n",
        "display(test_data.head())\n",
        "\n",
        "print(\"훈련데이터 : \",len(train_data))\n",
        "print(\"테스트데이터 : \",len(test_data))"
      ],
      "metadata": {
        "colab": {
          "base_uri": "https://localhost:8080/",
          "height": 431
        },
        "id": "nK5RF5ca1rw9",
        "outputId": "4353ee85-0cc2-47e2-a7a5-f0863b7c86eb"
      },
      "execution_count": 95,
      "outputs": [
        {
          "output_type": "display_data",
          "data": {
            "text/plain": [
              "  category  review_type  rating  \\\n",
              "0      아우터            1     4.8   \n",
              "1       상의            0     4.9   \n",
              "2      아우터            1     4.8   \n",
              "3       상의            1     4.8   \n",
              "4      아우터            1     4.9   \n",
              "\n",
              "                                              review consumer_sex  \n",
              "0                     너무예쁨ㅠㅠ 지금 입기 딱 좋아욤 근데 팔이 좀 길어여           남성  \n",
              "1  상체발달형 체형이라 너무 부해보일까봐 스몰사이즈 주문했는데 ㅎㅎ 만족합니다 소재가 ...           남성  \n",
              "2  굿 체감상 기장이 보다 긴 것 같지만 기분 탓이겠죠 근데 좋아요 가을 오면 자주 입을 듯           남성  \n",
              "3              디자인도 예쁘고 박시한 느낌이라 올 여름 편안하게 입을 것 같습니다           여성  \n",
              "4              얇고 바스락거리는소재에 화면과같아요 엄브로색조합은 언제나 짱입니다ㅎ           남성  "
            ],
            "text/html": [
              "\n",
              "  <div id=\"df-fd2f6a22-6a46-465b-9bd5-b17f9f5928be\">\n",
              "    <div class=\"colab-df-container\">\n",
              "      <div>\n",
              "<style scoped>\n",
              "    .dataframe tbody tr th:only-of-type {\n",
              "        vertical-align: middle;\n",
              "    }\n",
              "\n",
              "    .dataframe tbody tr th {\n",
              "        vertical-align: top;\n",
              "    }\n",
              "\n",
              "    .dataframe thead th {\n",
              "        text-align: right;\n",
              "    }\n",
              "</style>\n",
              "<table border=\"1\" class=\"dataframe\">\n",
              "  <thead>\n",
              "    <tr style=\"text-align: right;\">\n",
              "      <th></th>\n",
              "      <th>category</th>\n",
              "      <th>review_type</th>\n",
              "      <th>rating</th>\n",
              "      <th>review</th>\n",
              "      <th>consumer_sex</th>\n",
              "    </tr>\n",
              "  </thead>\n",
              "  <tbody>\n",
              "    <tr>\n",
              "      <th>0</th>\n",
              "      <td>아우터</td>\n",
              "      <td>1</td>\n",
              "      <td>4.8</td>\n",
              "      <td>너무예쁨ㅠㅠ 지금 입기 딱 좋아욤 근데 팔이 좀 길어여</td>\n",
              "      <td>남성</td>\n",
              "    </tr>\n",
              "    <tr>\n",
              "      <th>1</th>\n",
              "      <td>상의</td>\n",
              "      <td>0</td>\n",
              "      <td>4.9</td>\n",
              "      <td>상체발달형 체형이라 너무 부해보일까봐 스몰사이즈 주문했는데 ㅎㅎ 만족합니다 소재가 ...</td>\n",
              "      <td>남성</td>\n",
              "    </tr>\n",
              "    <tr>\n",
              "      <th>2</th>\n",
              "      <td>아우터</td>\n",
              "      <td>1</td>\n",
              "      <td>4.8</td>\n",
              "      <td>굿 체감상 기장이 보다 긴 것 같지만 기분 탓이겠죠 근데 좋아요 가을 오면 자주 입을 듯</td>\n",
              "      <td>남성</td>\n",
              "    </tr>\n",
              "    <tr>\n",
              "      <th>3</th>\n",
              "      <td>상의</td>\n",
              "      <td>1</td>\n",
              "      <td>4.8</td>\n",
              "      <td>디자인도 예쁘고 박시한 느낌이라 올 여름 편안하게 입을 것 같습니다</td>\n",
              "      <td>여성</td>\n",
              "    </tr>\n",
              "    <tr>\n",
              "      <th>4</th>\n",
              "      <td>아우터</td>\n",
              "      <td>1</td>\n",
              "      <td>4.9</td>\n",
              "      <td>얇고 바스락거리는소재에 화면과같아요 엄브로색조합은 언제나 짱입니다ㅎ</td>\n",
              "      <td>남성</td>\n",
              "    </tr>\n",
              "  </tbody>\n",
              "</table>\n",
              "</div>\n",
              "      <button class=\"colab-df-convert\" onclick=\"convertToInteractive('df-fd2f6a22-6a46-465b-9bd5-b17f9f5928be')\"\n",
              "              title=\"Convert this dataframe to an interactive table.\"\n",
              "              style=\"display:none;\">\n",
              "        \n",
              "  <svg xmlns=\"http://www.w3.org/2000/svg\" height=\"24px\"viewBox=\"0 0 24 24\"\n",
              "       width=\"24px\">\n",
              "    <path d=\"M0 0h24v24H0V0z\" fill=\"none\"/>\n",
              "    <path d=\"M18.56 5.44l.94 2.06.94-2.06 2.06-.94-2.06-.94-.94-2.06-.94 2.06-2.06.94zm-11 1L8.5 8.5l.94-2.06 2.06-.94-2.06-.94L8.5 2.5l-.94 2.06-2.06.94zm10 10l.94 2.06.94-2.06 2.06-.94-2.06-.94-.94-2.06-.94 2.06-2.06.94z\"/><path d=\"M17.41 7.96l-1.37-1.37c-.4-.4-.92-.59-1.43-.59-.52 0-1.04.2-1.43.59L10.3 9.45l-7.72 7.72c-.78.78-.78 2.05 0 2.83L4 21.41c.39.39.9.59 1.41.59.51 0 1.02-.2 1.41-.59l7.78-7.78 2.81-2.81c.8-.78.8-2.07 0-2.86zM5.41 20L4 18.59l7.72-7.72 1.47 1.35L5.41 20z\"/>\n",
              "  </svg>\n",
              "      </button>\n",
              "      \n",
              "  <style>\n",
              "    .colab-df-container {\n",
              "      display:flex;\n",
              "      flex-wrap:wrap;\n",
              "      gap: 12px;\n",
              "    }\n",
              "\n",
              "    .colab-df-convert {\n",
              "      background-color: #E8F0FE;\n",
              "      border: none;\n",
              "      border-radius: 50%;\n",
              "      cursor: pointer;\n",
              "      display: none;\n",
              "      fill: #1967D2;\n",
              "      height: 32px;\n",
              "      padding: 0 0 0 0;\n",
              "      width: 32px;\n",
              "    }\n",
              "\n",
              "    .colab-df-convert:hover {\n",
              "      background-color: #E2EBFA;\n",
              "      box-shadow: 0px 1px 2px rgba(60, 64, 67, 0.3), 0px 1px 3px 1px rgba(60, 64, 67, 0.15);\n",
              "      fill: #174EA6;\n",
              "    }\n",
              "\n",
              "    [theme=dark] .colab-df-convert {\n",
              "      background-color: #3B4455;\n",
              "      fill: #D2E3FC;\n",
              "    }\n",
              "\n",
              "    [theme=dark] .colab-df-convert:hover {\n",
              "      background-color: #434B5C;\n",
              "      box-shadow: 0px 1px 3px 1px rgba(0, 0, 0, 0.15);\n",
              "      filter: drop-shadow(0px 1px 2px rgba(0, 0, 0, 0.3));\n",
              "      fill: #FFFFFF;\n",
              "    }\n",
              "  </style>\n",
              "\n",
              "      <script>\n",
              "        const buttonEl =\n",
              "          document.querySelector('#df-fd2f6a22-6a46-465b-9bd5-b17f9f5928be button.colab-df-convert');\n",
              "        buttonEl.style.display =\n",
              "          google.colab.kernel.accessAllowed ? 'block' : 'none';\n",
              "\n",
              "        async function convertToInteractive(key) {\n",
              "          const element = document.querySelector('#df-fd2f6a22-6a46-465b-9bd5-b17f9f5928be');\n",
              "          const dataTable =\n",
              "            await google.colab.kernel.invokeFunction('convertToInteractive',\n",
              "                                                     [key], {});\n",
              "          if (!dataTable) return;\n",
              "\n",
              "          const docLinkHtml = 'Like what you see? Visit the ' +\n",
              "            '<a target=\"_blank\" href=https://colab.research.google.com/notebooks/data_table.ipynb>data table notebook</a>'\n",
              "            + ' to learn more about interactive tables.';\n",
              "          element.innerHTML = '';\n",
              "          dataTable['output_type'] = 'display_data';\n",
              "          await google.colab.output.renderOutput(dataTable, element);\n",
              "          const docLink = document.createElement('div');\n",
              "          docLink.innerHTML = docLinkHtml;\n",
              "          element.appendChild(docLink);\n",
              "        }\n",
              "      </script>\n",
              "    </div>\n",
              "  </div>\n",
              "  "
            ]
          },
          "metadata": {}
        },
        {
          "output_type": "display_data",
          "data": {
            "text/plain": [
              "  category  review_type  rating  \\\n",
              "0      아우터            1     4.7   \n",
              "1      아우터            1     5.0   \n",
              "2      아우터            0     5.0   \n",
              "3       상의            0     4.7   \n",
              "4       상의            1     4.7   \n",
              "\n",
              "                                              review consumer_sex  \n",
              "0  가볍게 걸치기에 좋습니다 라운드 티 제품들에 비해서는 길이는 적당합니다 박시하게 입...           여성  \n",
              "1                          생각한 거보다 예뻐요 봄 가을에 애용하겠습니다           남성  \n",
              "2                아부지 선물해드렸는데 좋아하시네요사이즈도 적당하니 좋은거 같아요           남성  \n",
              "3              여름옷 미리 산건데 옷이 가격대비 튼튼하고 괜찮네요 딱 스탠다드에요           남성  \n",
              "4  남자  남편이랑 같이 입어요  많이 입어서 색바램이 조금 있지만그래서 빈티지해진거같...           남성  "
            ],
            "text/html": [
              "\n",
              "  <div id=\"df-fe733091-880b-405a-8611-34db44f3afca\">\n",
              "    <div class=\"colab-df-container\">\n",
              "      <div>\n",
              "<style scoped>\n",
              "    .dataframe tbody tr th:only-of-type {\n",
              "        vertical-align: middle;\n",
              "    }\n",
              "\n",
              "    .dataframe tbody tr th {\n",
              "        vertical-align: top;\n",
              "    }\n",
              "\n",
              "    .dataframe thead th {\n",
              "        text-align: right;\n",
              "    }\n",
              "</style>\n",
              "<table border=\"1\" class=\"dataframe\">\n",
              "  <thead>\n",
              "    <tr style=\"text-align: right;\">\n",
              "      <th></th>\n",
              "      <th>category</th>\n",
              "      <th>review_type</th>\n",
              "      <th>rating</th>\n",
              "      <th>review</th>\n",
              "      <th>consumer_sex</th>\n",
              "    </tr>\n",
              "  </thead>\n",
              "  <tbody>\n",
              "    <tr>\n",
              "      <th>0</th>\n",
              "      <td>아우터</td>\n",
              "      <td>1</td>\n",
              "      <td>4.7</td>\n",
              "      <td>가볍게 걸치기에 좋습니다 라운드 티 제품들에 비해서는 길이는 적당합니다 박시하게 입...</td>\n",
              "      <td>여성</td>\n",
              "    </tr>\n",
              "    <tr>\n",
              "      <th>1</th>\n",
              "      <td>아우터</td>\n",
              "      <td>1</td>\n",
              "      <td>5.0</td>\n",
              "      <td>생각한 거보다 예뻐요 봄 가을에 애용하겠습니다</td>\n",
              "      <td>남성</td>\n",
              "    </tr>\n",
              "    <tr>\n",
              "      <th>2</th>\n",
              "      <td>아우터</td>\n",
              "      <td>0</td>\n",
              "      <td>5.0</td>\n",
              "      <td>아부지 선물해드렸는데 좋아하시네요사이즈도 적당하니 좋은거 같아요</td>\n",
              "      <td>남성</td>\n",
              "    </tr>\n",
              "    <tr>\n",
              "      <th>3</th>\n",
              "      <td>상의</td>\n",
              "      <td>0</td>\n",
              "      <td>4.7</td>\n",
              "      <td>여름옷 미리 산건데 옷이 가격대비 튼튼하고 괜찮네요 딱 스탠다드에요</td>\n",
              "      <td>남성</td>\n",
              "    </tr>\n",
              "    <tr>\n",
              "      <th>4</th>\n",
              "      <td>상의</td>\n",
              "      <td>1</td>\n",
              "      <td>4.7</td>\n",
              "      <td>남자  남편이랑 같이 입어요  많이 입어서 색바램이 조금 있지만그래서 빈티지해진거같...</td>\n",
              "      <td>남성</td>\n",
              "    </tr>\n",
              "  </tbody>\n",
              "</table>\n",
              "</div>\n",
              "      <button class=\"colab-df-convert\" onclick=\"convertToInteractive('df-fe733091-880b-405a-8611-34db44f3afca')\"\n",
              "              title=\"Convert this dataframe to an interactive table.\"\n",
              "              style=\"display:none;\">\n",
              "        \n",
              "  <svg xmlns=\"http://www.w3.org/2000/svg\" height=\"24px\"viewBox=\"0 0 24 24\"\n",
              "       width=\"24px\">\n",
              "    <path d=\"M0 0h24v24H0V0z\" fill=\"none\"/>\n",
              "    <path d=\"M18.56 5.44l.94 2.06.94-2.06 2.06-.94-2.06-.94-.94-2.06-.94 2.06-2.06.94zm-11 1L8.5 8.5l.94-2.06 2.06-.94-2.06-.94L8.5 2.5l-.94 2.06-2.06.94zm10 10l.94 2.06.94-2.06 2.06-.94-2.06-.94-.94-2.06-.94 2.06-2.06.94z\"/><path d=\"M17.41 7.96l-1.37-1.37c-.4-.4-.92-.59-1.43-.59-.52 0-1.04.2-1.43.59L10.3 9.45l-7.72 7.72c-.78.78-.78 2.05 0 2.83L4 21.41c.39.39.9.59 1.41.59.51 0 1.02-.2 1.41-.59l7.78-7.78 2.81-2.81c.8-.78.8-2.07 0-2.86zM5.41 20L4 18.59l7.72-7.72 1.47 1.35L5.41 20z\"/>\n",
              "  </svg>\n",
              "      </button>\n",
              "      \n",
              "  <style>\n",
              "    .colab-df-container {\n",
              "      display:flex;\n",
              "      flex-wrap:wrap;\n",
              "      gap: 12px;\n",
              "    }\n",
              "\n",
              "    .colab-df-convert {\n",
              "      background-color: #E8F0FE;\n",
              "      border: none;\n",
              "      border-radius: 50%;\n",
              "      cursor: pointer;\n",
              "      display: none;\n",
              "      fill: #1967D2;\n",
              "      height: 32px;\n",
              "      padding: 0 0 0 0;\n",
              "      width: 32px;\n",
              "    }\n",
              "\n",
              "    .colab-df-convert:hover {\n",
              "      background-color: #E2EBFA;\n",
              "      box-shadow: 0px 1px 2px rgba(60, 64, 67, 0.3), 0px 1px 3px 1px rgba(60, 64, 67, 0.15);\n",
              "      fill: #174EA6;\n",
              "    }\n",
              "\n",
              "    [theme=dark] .colab-df-convert {\n",
              "      background-color: #3B4455;\n",
              "      fill: #D2E3FC;\n",
              "    }\n",
              "\n",
              "    [theme=dark] .colab-df-convert:hover {\n",
              "      background-color: #434B5C;\n",
              "      box-shadow: 0px 1px 3px 1px rgba(0, 0, 0, 0.15);\n",
              "      filter: drop-shadow(0px 1px 2px rgba(0, 0, 0, 0.3));\n",
              "      fill: #FFFFFF;\n",
              "    }\n",
              "  </style>\n",
              "\n",
              "      <script>\n",
              "        const buttonEl =\n",
              "          document.querySelector('#df-fe733091-880b-405a-8611-34db44f3afca button.colab-df-convert');\n",
              "        buttonEl.style.display =\n",
              "          google.colab.kernel.accessAllowed ? 'block' : 'none';\n",
              "\n",
              "        async function convertToInteractive(key) {\n",
              "          const element = document.querySelector('#df-fe733091-880b-405a-8611-34db44f3afca');\n",
              "          const dataTable =\n",
              "            await google.colab.kernel.invokeFunction('convertToInteractive',\n",
              "                                                     [key], {});\n",
              "          if (!dataTable) return;\n",
              "\n",
              "          const docLinkHtml = 'Like what you see? Visit the ' +\n",
              "            '<a target=\"_blank\" href=https://colab.research.google.com/notebooks/data_table.ipynb>data table notebook</a>'\n",
              "            + ' to learn more about interactive tables.';\n",
              "          element.innerHTML = '';\n",
              "          dataTable['output_type'] = 'display_data';\n",
              "          await google.colab.output.renderOutput(dataTable, element);\n",
              "          const docLink = document.createElement('div');\n",
              "          docLink.innerHTML = docLinkHtml;\n",
              "          element.appendChild(docLink);\n",
              "        }\n",
              "      </script>\n",
              "    </div>\n",
              "  </div>\n",
              "  "
            ]
          },
          "metadata": {}
        },
        {
          "output_type": "stream",
          "name": "stdout",
          "text": [
            "훈련데이터 :  8374\n",
            "테스트데이터 :  3879\n"
          ]
        }
      ]
    },
    {
      "cell_type": "code",
      "source": [
        "from konlpy.tag import Okt\n",
        "# okt 사용\n",
        "okt = Okt()\n",
        "\n",
        "# 토큰화, 불용어 제거하여 X_train에 저장\n",
        "X_train = []\n",
        "for sentence in train_data['review']:\n",
        "    temp_X = okt.morphs(sentence, stem=True) # 토큰화\n",
        "    temp_X = [word for word in temp_X if not word in stopwords] # 불용어 제거\n",
        "    X_train.append(temp_X)"
      ],
      "metadata": {
        "id": "0jE4mbxB1zF8"
      },
      "execution_count": 101,
      "outputs": []
    },
    {
      "cell_type": "code",
      "source": [
        "# 테스트데이터에도 동일한 과정 진행\n",
        "X_test = []\n",
        "for sentence in test_data['review']:\n",
        "    temp_X = okt.morphs(sentence, stem=True) # 토큰화\n",
        "    temp_X = [word for word in temp_X if not word in stopwords] # 불용어 제거\n",
        "    X_test.append(temp_X)"
      ],
      "metadata": {
        "id": "WpIfbu-B3yEX"
      },
      "execution_count": 102,
      "outputs": []
    },
    {
      "cell_type": "code",
      "source": [
        "# 훈련 데이터에 대해서 단어 집합(vocaburary) 형성\n",
        "from tensorflow.keras.preprocessing.text import Tokenizer\n",
        "tokenizer = Tokenizer()\n",
        "tokenizer.fit_on_texts(X_train) # 단어집합 형성 메서드 : fit_on_texts()"
      ],
      "metadata": {
        "id": "nLrP9mq55iTl"
      },
      "execution_count": 103,
      "outputs": []
    },
    {
      "cell_type": "code",
      "source": [
        "# 등장 빈도수가 3회 미만인 단어들이 이 데이터에서 얼만큼의 비중을 차지하는지 확인\n",
        "threshold = 3\n",
        "total_cnt = len(tokenizer.word_index) # 단어의 수\n",
        "rare_cnt = 0 # 등장 빈도수가 threshold보다 작은 단어의 개수를 카운트\n",
        "total_freq = 0 # 훈련 데이터의 전체 단어 빈도수 총 합\n",
        "rare_freq = 0 # 등장 빈도수가 threshold보다 작은 단어의 등장 빈도수의 총 합\n",
        "\n",
        "# 단어와 빈도수의 쌍(pair)을 key와 value로 받는다.\n",
        "for key, value in tokenizer.word_counts.items(): # items : 단어와 빈도수를 출력\n",
        "    total_freq = total_freq + value\n",
        "\n",
        "    # 단어의 등장 빈도수가 threshold보다 작으면\n",
        "    if(value < threshold):\n",
        "        rare_cnt = rare_cnt + 1\n",
        "        rare_freq = rare_freq + value\n",
        "\n",
        "print('단어 집합(vocabulary)의 크기 :',total_cnt)\n",
        "print('등장 빈도가 %s번 이하인 희귀 단어의 수: %s'%(threshold - 1, rare_cnt))\n",
        "print(\"단어 집합에서 희귀 단어의 비율:\", (rare_cnt / total_cnt)*100)\n",
        "print(\"전체 등장 빈도에서 희귀 단어 등장 빈도 비율:\", (rare_freq / total_freq)*100)"
      ],
      "metadata": {
        "colab": {
          "base_uri": "https://localhost:8080/"
        },
        "id": "CaA9_7Pd5n3M",
        "outputId": "8235c9af-a7c8-4808-9240-1cb1dcc4b42e"
      },
      "execution_count": 104,
      "outputs": [
        {
          "output_type": "stream",
          "name": "stdout",
          "text": [
            "단어 집합(vocabulary)의 크기 : 5936\n",
            "등장 빈도가 2번 이하인 희귀 단어의 수: 3486\n",
            "단어 집합에서 희귀 단어의 비율: 58.72641509433962\n",
            "전체 등장 빈도에서 희귀 단어 등장 빈도 비율: 3.958184001563911\n"
          ]
        }
      ]
    },
    {
      "cell_type": "code",
      "source": [
        "# 전체 단어 개수 중 빈도수 2이하인 단어는 제거\n",
        "# 0번 패딩 토큰을 고려하여 + 1\n",
        "vocab_size = total_cnt - rare_cnt + 1\n",
        "print('단어 집합의 크기 :',vocab_size)"
      ],
      "metadata": {
        "colab": {
          "base_uri": "https://localhost:8080/"
        },
        "id": "6jr92Wfs5zP3",
        "outputId": "75a76639-4aff-4643-a9d5-e26b1ee84577"
      },
      "execution_count": 105,
      "outputs": [
        {
          "output_type": "stream",
          "name": "stdout",
          "text": [
            "단어 집합의 크기 : 2451\n"
          ]
        }
      ]
    },
    {
      "cell_type": "code",
      "source": [
        "# vocab 사이즈로 토크나이저\n",
        "tokenizer = Tokenizer(vocab_size) \n",
        "tokenizer.fit_on_texts(X_train)\n",
        "X_train = tokenizer.texts_to_sequences(X_train)\n",
        "X_test = tokenizer.texts_to_sequences(X_test)"
      ],
      "metadata": {
        "id": "uNeBag1g55vm"
      },
      "execution_count": 106,
      "outputs": []
    },
    {
      "cell_type": "code",
      "source": [
        "# 타겟데이터 분리\n",
        "y_train = np.array(train_data['review_type'])\n",
        "y_test = np.array(test_data['review_type'])"
      ],
      "metadata": {
        "id": "LeaSJ52D570o"
      },
      "execution_count": 107,
      "outputs": []
    },
    {
      "cell_type": "code",
      "source": [
        "# 빈 샘플들은 어떤 레이블이 붙어있던 의미가 없으므로 빈 샘플들을 제거해주는 작업\n",
        "# 단어 길이가 0인 것들을 drop\n",
        "drop_train = [index for index, sentence in enumerate(X_train) if len(sentence) < 1]"
      ],
      "metadata": {
        "id": "hqvFu8td6Dr4"
      },
      "execution_count": 108,
      "outputs": []
    },
    {
      "cell_type": "code",
      "source": [
        "# 빈 샘플들을 제거한 후의 샘플 갯수 확인\n",
        "X_train = np.delete(X_train, drop_train, axis=0)\n",
        "y_train = np.delete(y_train, drop_train, axis=0)\n",
        "print(len(X_train))\n",
        "print(len(y_train))"
      ],
      "metadata": {
        "colab": {
          "base_uri": "https://localhost:8080/"
        },
        "id": "LeisQzBB6Hd7",
        "outputId": "fdc75e33-bc32-4e65-80a0-252c09ab487d"
      },
      "execution_count": 109,
      "outputs": [
        {
          "output_type": "stream",
          "name": "stdout",
          "text": [
            "8373\n",
            "8373\n"
          ]
        },
        {
          "output_type": "stream",
          "name": "stderr",
          "text": [
            "/usr/local/lib/python3.8/dist-packages/numpy/lib/function_base.py:4454: VisibleDeprecationWarning: Creating an ndarray from ragged nested sequences (which is a list-or-tuple of lists-or-tuples-or ndarrays with different lengths or shapes) is deprecated. If you meant to do this, you must specify 'dtype=object' when creating the ndarray.\n",
            "  arr = asarray(arr)\n"
          ]
        }
      ]
    },
    {
      "cell_type": "code",
      "source": [
        "# 전체 샘플 중 길이가 max_len 이하인 샘플의 비율이 몇 %인지 확인하는 함수\n",
        "def below_threshold_len(max_len, nested_list):\n",
        "    cnt = 0\n",
        "    for s in nested_list:\n",
        "        if(len(s) <= max_len):\n",
        "            cnt = cnt + 1\n",
        "    print('전체 샘플 중 길이가 %s 이하인 샘플의 비율: %s'%(max_len, (cnt / len(nested_list))*100))"
      ],
      "metadata": {
        "id": "rs4_O88P6I9C"
      },
      "execution_count": 110,
      "outputs": []
    },
    {
      "cell_type": "code",
      "source": [
        "# 길이 30 이하의 리뷰가 몇 %인지 확인\n",
        "max_len = 30\n",
        "below_threshold_len(max_len, X_train)"
      ],
      "metadata": {
        "colab": {
          "base_uri": "https://localhost:8080/"
        },
        "id": "94c5SIjE6LpE",
        "outputId": "85b8db39-1a61-44ad-a4fe-c109d5fe42ec"
      },
      "execution_count": 112,
      "outputs": [
        {
          "output_type": "stream",
          "name": "stdout",
          "text": [
            "전체 샘플 중 길이가 30 이하인 샘플의 비율: 99.66559178311239\n"
          ]
        }
      ]
    },
    {
      "cell_type": "code",
      "source": [
        "# 모든 샘플의 길이를 30으로 설정\n",
        "from tensorflow.keras.preprocessing.sequence import pad_sequences\n",
        "X_train = pad_sequences(X_train, maxlen = max_len)\n",
        "X_test = pad_sequences(X_test, maxlen = max_len)"
      ],
      "metadata": {
        "id": "McVAyTr16OUp"
      },
      "execution_count": 113,
      "outputs": []
    },
    {
      "cell_type": "code",
      "source": [
        "# 모델 선언\n",
        "# 임베딩 벡터의 차원은 100, LSTM을 사용\n",
        "from tensorflow.keras.models import Sequential\n",
        "from tensorflow.keras.layers import Embedding, Dense, LSTM\n",
        "from tensorflow.keras.models import load_model\n",
        "from tensorflow.keras.callbacks import EarlyStopping, ModelCheckpoint\n",
        "model = Sequential()\n",
        "model.add(Embedding(vocab_size, 100)) # 임베딩 레이어\n",
        "model.add(LSTM(128)) # LSTM 레이어\n",
        "model.add(Dense(1, activation='sigmoid')) # 출력 레이어"
      ],
      "metadata": {
        "id": "VY5zgoTq6TVn"
      },
      "execution_count": 114,
      "outputs": []
    },
    {
      "cell_type": "code",
      "source": [
        "# Early Stopping과 CheckPoint 사용하여 과적합 방지\n",
        "es = EarlyStopping(monitor='val_loss', mode='min', verbose=1, patience=4)\n",
        "mc = ModelCheckpoint('best_model.h5', monitor='val_acc', mode='max', verbose=1, save_best_only=True)\n",
        "\n",
        "# 모델 하이퍼 파라미터 설정\n",
        "model.compile(optimizer='adam', loss='binary_crossentropy', metrics=['acc'])\n",
        "history = model.fit(X_train, y_train, epochs=15, callbacks=[es, mc], batch_size=60, validation_split=0.2)"
      ],
      "metadata": {
        "colab": {
          "base_uri": "https://localhost:8080/"
        },
        "id": "QTGUTe126V1W",
        "outputId": "7e7acf9c-b83a-4563-d720-bf1f3ae8d6ce"
      },
      "execution_count": 116,
      "outputs": [
        {
          "output_type": "stream",
          "name": "stdout",
          "text": [
            "Epoch 1/15\n",
            "112/112 [==============================] - ETA: 0s - loss: 0.5360 - acc: 0.7228\n",
            "Epoch 1: val_acc improved from -inf to 0.57731, saving model to best_model.h5\n",
            "112/112 [==============================] - 18s 123ms/step - loss: 0.5360 - acc: 0.7228 - val_loss: 0.7135 - val_acc: 0.5773\n",
            "Epoch 2/15\n",
            "112/112 [==============================] - ETA: 0s - loss: 0.4982 - acc: 0.7513\n",
            "Epoch 2: val_acc did not improve from 0.57731\n",
            "112/112 [==============================] - 10s 91ms/step - loss: 0.4982 - acc: 0.7513 - val_loss: 0.7502 - val_acc: 0.5749\n",
            "Epoch 3/15\n",
            "112/112 [==============================] - ETA: 0s - loss: 0.4625 - acc: 0.7711\n",
            "Epoch 3: val_acc did not improve from 0.57731\n",
            "112/112 [==============================] - 12s 106ms/step - loss: 0.4625 - acc: 0.7711 - val_loss: 0.7997 - val_acc: 0.5690\n",
            "Epoch 4/15\n",
            "112/112 [==============================] - ETA: 0s - loss: 0.4239 - acc: 0.7923\n",
            "Epoch 4: val_acc did not improve from 0.57731\n",
            "112/112 [==============================] - 9s 84ms/step - loss: 0.4239 - acc: 0.7923 - val_loss: 0.9340 - val_acc: 0.5618\n",
            "Epoch 5/15\n",
            "112/112 [==============================] - ETA: 0s - loss: 0.3916 - acc: 0.8152\n",
            "Epoch 5: val_acc did not improve from 0.57731\n",
            "112/112 [==============================] - 9s 84ms/step - loss: 0.3916 - acc: 0.8152 - val_loss: 0.9272 - val_acc: 0.5749\n",
            "Epoch 5: early stopping\n"
          ]
        }
      ]
    },
    {
      "cell_type": "code",
      "source": [
        "result = model.evaluate(X_test,  y_test, verbose=2)\n",
        "print(result)"
      ],
      "metadata": {
        "colab": {
          "base_uri": "https://localhost:8080/"
        },
        "id": "7Ua5z7D06wdz",
        "outputId": "33537c87-206e-44b8-8797-43ca11b0b3b7"
      },
      "execution_count": 117,
      "outputs": [
        {
          "output_type": "stream",
          "name": "stdout",
          "text": [
            "122/122 - 2s - loss: 0.9284 - acc: 0.5782 - 2s/epoch - 17ms/step\n",
            "[0.9283970594406128, 0.5782418251037598]\n"
          ]
        }
      ]
    },
    {
      "cell_type": "code",
      "source": [
        "# 가장 좋았던 모델 불러오기\n",
        "loaded_model = load_model('best_model.h5')\n",
        "print(\"\\n 테스트 정확도: %.4f\" % (loaded_model.evaluate(X_test, y_test)[1]))"
      ],
      "metadata": {
        "colab": {
          "base_uri": "https://localhost:8080/"
        },
        "id": "VPCleJAw6YYt",
        "outputId": "da197482-76a2-49a3-d11d-053743bc280e"
      },
      "execution_count": 118,
      "outputs": [
        {
          "output_type": "stream",
          "name": "stdout",
          "text": [
            "122/122 [==============================] - 3s 19ms/step - loss: 0.7071 - acc: 0.5981\n",
            "\n",
            " 테스트 정확도: 0.5981\n"
          ]
        }
      ]
    },
    {
      "cell_type": "code",
      "source": [
        "def step1_data_preprocessing():\n",
        "  text_list = df['review'].tolist()\n",
        "  star_list = df['review_type'].tolist()\n",
        "\n",
        "  text_train, text_test, star_train, star_test = train_test_split(text_list, star_list, test_size=0.2, random_state=42)\n",
        "\n",
        "  return text_train, text_test, star_train, star_test"
      ],
      "metadata": {
        "id": "opzHk1pM96C0"
      },
      "execution_count": 122,
      "outputs": []
    },
    {
      "cell_type": "code",
      "source": [
        "def tokenizer(text):\n",
        "  okt = Okt()\n",
        "  return okt.morphs(text)"
      ],
      "metadata": {
        "id": "XY8-haQC_Bu_"
      },
      "execution_count": 129,
      "outputs": []
    },
    {
      "cell_type": "code",
      "source": [
        "from sklearn.linear_model import LogisticRegression\n",
        "import pickle\n",
        "\n",
        "def step2_learning(X_train, y_train, X_test, y_test):\n",
        "  tfidf = TfidfVectorizer(lowercase=False, tokenizer=tokenizer)\n",
        "\n",
        "  logistic = LogisticRegression(C=10, penalty='l2', random_state=42)\n",
        "\n",
        "  pipe = Pipeline([('vect', tfidf), ('clf', logistic)])\n",
        "\n",
        "  pipe.fit(X_train, y_train)\n",
        "  \n",
        "  y_pred = pipe.predict(X_test)\n",
        "  print(accuracy_score(y_test, y_pred))\n",
        "\n",
        "  with open('pipe.dat', 'wb') as fp:\n",
        "    pickle.dump(pipe, fp)\n",
        "  print('저장완료')"
      ],
      "metadata": {
        "id": "3-jeJuDI6bhL"
      },
      "execution_count": 133,
      "outputs": []
    },
    {
      "cell_type": "code",
      "source": [
        "def using_model():\n",
        "  with open('pipe.dat', 'rb') as fp:\n",
        "    pipe = pickle.load(fp)\n",
        "\n",
        "  while True :\n",
        "    text = input('리뷰를 작성해주세요 :')\n",
        "\n",
        "    str = [text]\n",
        "    # 예측 정확도\n",
        "    r1 = np.max(pipe.predict_proba(str)*100)\n",
        "\n",
        "    # 예측 결과\n",
        "    r2 = pipe.predict(str)[0]\n",
        "\n",
        "    if r2 == '1':\n",
        "      print('긍정적인 리뷰')\n",
        "    else:\n",
        "      print('부정적인 리뷰')\n",
        "    \n",
        "    print('정확도 : %.3f' % r1)\n",
        "\n",
        "# 학습 함수\n",
        "def learning():\n",
        "  text_train, text_test, star_train, star_test = step1_data_preprocessing()\n",
        "  step2_learning(text_train, star_train, text_test, star_test)\n",
        "\n",
        "# 사용 함수\n",
        "def using():\n",
        "  using_model()"
      ],
      "metadata": {
        "id": "khxM-kR_709Q"
      },
      "execution_count": 134,
      "outputs": []
    },
    {
      "cell_type": "code",
      "source": [
        "learning()"
      ],
      "metadata": {
        "colab": {
          "base_uri": "https://localhost:8080/"
        },
        "id": "KZZH_3Kf9Pdi",
        "outputId": "4808dc8b-a8d6-41b9-ffc5-2488d8461fc4"
      },
      "execution_count": 135,
      "outputs": [
        {
          "output_type": "stream",
          "name": "stderr",
          "text": [
            "/usr/local/lib/python3.8/dist-packages/sklearn/linear_model/_logistic.py:814: ConvergenceWarning: lbfgs failed to converge (status=1):\n",
            "STOP: TOTAL NO. of ITERATIONS REACHED LIMIT.\n",
            "\n",
            "Increase the number of iterations (max_iter) or scale the data as shown in:\n",
            "    https://scikit-learn.org/stable/modules/preprocessing.html\n",
            "Please also refer to the documentation for alternative solver options:\n",
            "    https://scikit-learn.org/stable/modules/linear_model.html#logistic-regression\n",
            "  n_iter_i = _check_optimize_result(\n"
          ]
        },
        {
          "output_type": "stream",
          "name": "stdout",
          "text": [
            "0.6054015296367112\n",
            "저장완료\n"
          ]
        }
      ]
    },
    {
      "cell_type": "code",
      "source": [
        "using()"
      ],
      "metadata": {
        "colab": {
          "base_uri": "https://localhost:8080/"
        },
        "id": "AS2O7zMfAM-i",
        "outputId": "64500a25-06b7-4441-f199-172aceb21743"
      },
      "execution_count": null,
      "outputs": [
        {
          "output_type": "stream",
          "name": "stdout",
          "text": [
            "리뷰를 작성해주세요 :핏 좋아요\n",
            "부정적인 리뷰\n",
            "정확도 : 72.782\n",
            "리뷰를 작성해주세요 :별로\n",
            "부정적인 리뷰\n",
            "정확도 : 96.321\n",
            "리뷰를 작성해주세요 :얇아요\n",
            "부정적인 리뷰\n",
            "정확도 : 56.164\n",
            "리뷰를 작성해주세요 :좋아요\n",
            "부정적인 리뷰\n",
            "정확도 : 56.061\n"
          ]
        }
      ]
    },
    {
      "cell_type": "code",
      "source": [],
      "metadata": {
        "id": "oBq5BtJ1BEnR"
      },
      "execution_count": null,
      "outputs": []
    }
  ]
}